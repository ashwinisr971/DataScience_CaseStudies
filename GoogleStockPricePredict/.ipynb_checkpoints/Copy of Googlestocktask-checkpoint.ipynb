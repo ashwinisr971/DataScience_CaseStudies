{
 "cells": [
  {
   "cell_type": "markdown",
   "metadata": {
    "colab_type": "text",
    "id": "9ZqwI2KXGMwx"
   },
   "source": [
    "This program predicts the Google stock price on a particular day using svr and linear regression."
   ]
  },
  {
   "cell_type": "code",
   "execution_count": 0,
   "metadata": {
    "colab": {},
    "colab_type": "code",
    "id": "GLmnqt80GEFr"
   },
   "outputs": [],
   "source": [
    "import pandas as pd\n",
    "import numpy as np\n",
    "from sklearn.svm import SVR\n",
    "from sklearn.linear_model import LinearRegression\n",
    "import matplotlib.pyplot as plt"
   ]
  },
  {
   "cell_type": "code",
   "execution_count": 64,
   "metadata": {
    "colab": {
     "base_uri": "https://localhost:8080/",
     "height": 323,
     "resources": {
      "http://localhost:8080/nbextensions/google.colab/files.js": {
       "data": "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",
       "headers": [
        [
         "content-type",
         "application/javascript"
        ]
       ],
       "ok": true,
       "status": 200,
       "status_text": ""
      }
     }
    },
    "colab_type": "code",
    "executionInfo": {
     "elapsed": 11824,
     "status": "ok",
     "timestamp": 1576124788618,
     "user": {
      "displayName": "ashwini kumar",
      "photoUrl": "",
      "userId": "09197296564027085430"
     },
     "user_tz": -330
    },
    "id": "Vot7eQnLH64u",
    "outputId": "5868f33f-8fae-4239-9aaa-fe9a5140e305"
   },
   "outputs": [
    {
     "data": {
      "text/html": [
       "\n",
       "     <input type=\"file\" id=\"files-3b60d98d-bc6a-43d2-9818-9be87b13d3b3\" name=\"files[]\" multiple disabled />\n",
       "     <output id=\"result-3b60d98d-bc6a-43d2-9818-9be87b13d3b3\">\n",
       "      Upload widget is only available when the cell has been executed in the\n",
       "      current browser session. Please rerun this cell to enable.\n",
       "      </output>\n",
       "      <script src=\"/nbextensions/google.colab/files.js\"></script> "
      ],
      "text/plain": [
       "<IPython.core.display.HTML object>"
      ]
     },
     "metadata": {
      "tags": []
     },
     "output_type": "display_data"
    },
    {
     "name": "stdout",
     "output_type": "stream",
     "text": [
      "Saving GOOG.csv to GOOG.csv\n"
     ]
    },
    {
     "data": {
      "text/html": [
       "<div>\n",
       "<style scoped>\n",
       "    .dataframe tbody tr th:only-of-type {\n",
       "        vertical-align: middle;\n",
       "    }\n",
       "\n",
       "    .dataframe tbody tr th {\n",
       "        vertical-align: top;\n",
       "    }\n",
       "\n",
       "    .dataframe thead th {\n",
       "        text-align: right;\n",
       "    }\n",
       "</style>\n",
       "<table border=\"1\" class=\"dataframe\">\n",
       "  <thead>\n",
       "    <tr style=\"text-align: right;\">\n",
       "      <th></th>\n",
       "      <th>Date</th>\n",
       "      <th>Open</th>\n",
       "      <th>High</th>\n",
       "      <th>Low</th>\n",
       "      <th>Close</th>\n",
       "      <th>Adj Close</th>\n",
       "      <th>Volume</th>\n",
       "    </tr>\n",
       "  </thead>\n",
       "  <tbody>\n",
       "    <tr>\n",
       "      <th>0</th>\n",
       "      <td>2019-11-01</td>\n",
       "      <td>1265.000000</td>\n",
       "      <td>1274.619995</td>\n",
       "      <td>1260.500000</td>\n",
       "      <td>1273.739990</td>\n",
       "      <td>1273.739990</td>\n",
       "      <td>1670100</td>\n",
       "    </tr>\n",
       "    <tr>\n",
       "      <th>1</th>\n",
       "      <td>2019-11-04</td>\n",
       "      <td>1276.449951</td>\n",
       "      <td>1294.130005</td>\n",
       "      <td>1276.354980</td>\n",
       "      <td>1291.369995</td>\n",
       "      <td>1291.369995</td>\n",
       "      <td>1501000</td>\n",
       "    </tr>\n",
       "    <tr>\n",
       "      <th>2</th>\n",
       "      <td>2019-11-05</td>\n",
       "      <td>1292.890015</td>\n",
       "      <td>1298.930054</td>\n",
       "      <td>1291.229004</td>\n",
       "      <td>1292.030029</td>\n",
       "      <td>1292.030029</td>\n",
       "      <td>1282700</td>\n",
       "    </tr>\n",
       "    <tr>\n",
       "      <th>3</th>\n",
       "      <td>2019-11-06</td>\n",
       "      <td>1289.459961</td>\n",
       "      <td>1293.729980</td>\n",
       "      <td>1282.500000</td>\n",
       "      <td>1291.800049</td>\n",
       "      <td>1291.800049</td>\n",
       "      <td>1152700</td>\n",
       "    </tr>\n",
       "    <tr>\n",
       "      <th>4</th>\n",
       "      <td>2019-11-07</td>\n",
       "      <td>1294.280029</td>\n",
       "      <td>1323.739990</td>\n",
       "      <td>1294.244995</td>\n",
       "      <td>1308.859985</td>\n",
       "      <td>1308.859985</td>\n",
       "      <td>2030000</td>\n",
       "    </tr>\n",
       "    <tr>\n",
       "      <th>5</th>\n",
       "      <td>2019-11-08</td>\n",
       "      <td>1305.280029</td>\n",
       "      <td>1318.000000</td>\n",
       "      <td>1304.364990</td>\n",
       "      <td>1311.369995</td>\n",
       "      <td>1311.369995</td>\n",
       "      <td>1251400</td>\n",
       "    </tr>\n",
       "    <tr>\n",
       "      <th>6</th>\n",
       "      <td>2019-11-11</td>\n",
       "      <td>1303.180054</td>\n",
       "      <td>1306.425049</td>\n",
       "      <td>1297.410034</td>\n",
       "      <td>1299.189941</td>\n",
       "      <td>1299.189941</td>\n",
       "      <td>1011900</td>\n",
       "    </tr>\n",
       "  </tbody>\n",
       "</table>\n",
       "</div>"
      ],
      "text/plain": [
       "         Date         Open         High  ...        Close    Adj Close   Volume\n",
       "0  2019-11-01  1265.000000  1274.619995  ...  1273.739990  1273.739990  1670100\n",
       "1  2019-11-04  1276.449951  1294.130005  ...  1291.369995  1291.369995  1501000\n",
       "2  2019-11-05  1292.890015  1298.930054  ...  1292.030029  1292.030029  1282700\n",
       "3  2019-11-06  1289.459961  1293.729980  ...  1291.800049  1291.800049  1152700\n",
       "4  2019-11-07  1294.280029  1323.739990  ...  1308.859985  1308.859985  2030000\n",
       "5  2019-11-08  1305.280029  1318.000000  ...  1311.369995  1311.369995  1251400\n",
       "6  2019-11-11  1303.180054  1306.425049  ...  1299.189941  1299.189941  1011900\n",
       "\n",
       "[7 rows x 7 columns]"
      ]
     },
     "execution_count": 64,
     "metadata": {
      "tags": []
     },
     "output_type": "execute_result"
    }
   ],
   "source": [
    "from google.colab import files\n",
    "uploaded=files.upload()\n",
    "df=pd.read_csv('GOOG.csv')\n",
    "df.head(7)"
   ]
  },
  {
   "cell_type": "code",
   "execution_count": 0,
   "metadata": {
    "colab": {},
    "colab_type": "code",
    "id": "7r5fe4ZwKTkD"
   },
   "outputs": [],
   "source": [
    "dates=[]\n",
    "prices=[]"
   ]
  },
  {
   "cell_type": "code",
   "execution_count": 66,
   "metadata": {
    "colab": {
     "base_uri": "https://localhost:8080/",
     "height": 34
    },
    "colab_type": "code",
    "executionInfo": {
     "elapsed": 1387,
     "status": "ok",
     "timestamp": 1576124804897,
     "user": {
      "displayName": "ashwini kumar",
      "photoUrl": "",
      "userId": "09197296564027085430"
     },
     "user_tz": -330
    },
    "id": "NIiMKgxVKbn3",
    "outputId": "bdddfb1e-722a-4699-db9a-c7bd488579ec"
   },
   "outputs": [
    {
     "data": {
      "text/plain": [
       "(20, 7)"
      ]
     },
     "execution_count": 66,
     "metadata": {
      "tags": []
     },
     "output_type": "execute_result"
    }
   ],
   "source": [
    "df.shape"
   ]
  },
  {
   "cell_type": "code",
   "execution_count": 67,
   "metadata": {
    "colab": {
     "base_uri": "https://localhost:8080/",
     "height": 80
    },
    "colab_type": "code",
    "executionInfo": {
     "elapsed": 1377,
     "status": "ok",
     "timestamp": 1576124808399,
     "user": {
      "displayName": "ashwini kumar",
      "photoUrl": "",
      "userId": "09197296564027085430"
     },
     "user_tz": -330
    },
    "id": "N8V9YCA1Kh5C",
    "outputId": "bf065bfa-f4e4-4064-a577-9993b779c676"
   },
   "outputs": [
    {
     "data": {
      "text/html": [
       "<div>\n",
       "<style scoped>\n",
       "    .dataframe tbody tr th:only-of-type {\n",
       "        vertical-align: middle;\n",
       "    }\n",
       "\n",
       "    .dataframe tbody tr th {\n",
       "        vertical-align: top;\n",
       "    }\n",
       "\n",
       "    .dataframe thead th {\n",
       "        text-align: right;\n",
       "    }\n",
       "</style>\n",
       "<table border=\"1\" class=\"dataframe\">\n",
       "  <thead>\n",
       "    <tr style=\"text-align: right;\">\n",
       "      <th></th>\n",
       "      <th>Date</th>\n",
       "      <th>Open</th>\n",
       "      <th>High</th>\n",
       "      <th>Low</th>\n",
       "      <th>Close</th>\n",
       "      <th>Adj Close</th>\n",
       "      <th>Volume</th>\n",
       "    </tr>\n",
       "  </thead>\n",
       "  <tbody>\n",
       "    <tr>\n",
       "      <th>19</th>\n",
       "      <td>2019-11-29</td>\n",
       "      <td>1307.119995</td>\n",
       "      <td>1310.204956</td>\n",
       "      <td>1303.969971</td>\n",
       "      <td>1304.959961</td>\n",
       "      <td>1304.959961</td>\n",
       "      <td>587000</td>\n",
       "    </tr>\n",
       "  </tbody>\n",
       "</table>\n",
       "</div>"
      ],
      "text/plain": [
       "          Date         Open         High  ...        Close    Adj Close  Volume\n",
       "19  2019-11-29  1307.119995  1310.204956  ...  1304.959961  1304.959961  587000\n",
       "\n",
       "[1 rows x 7 columns]"
      ]
     },
     "execution_count": 67,
     "metadata": {
      "tags": []
     },
     "output_type": "execute_result"
    }
   ],
   "source": [
    "df.tail(1)"
   ]
  },
  {
   "cell_type": "code",
   "execution_count": 68,
   "metadata": {
    "colab": {
     "base_uri": "https://localhost:8080/",
     "height": 514
    },
    "colab_type": "code",
    "executionInfo": {
     "elapsed": 1606,
     "status": "ok",
     "timestamp": 1576124818243,
     "user": {
      "displayName": "ashwini kumar",
      "photoUrl": "",
      "userId": "09197296564027085430"
     },
     "user_tz": -330
    },
    "id": "R92b-7PDKtF7",
    "outputId": "cf56457d-b87b-421a-b499-59ad22eafd7b"
   },
   "outputs": [
    {
     "data": {
      "text/html": [
       "<div>\n",
       "<style scoped>\n",
       "    .dataframe tbody tr th:only-of-type {\n",
       "        vertical-align: middle;\n",
       "    }\n",
       "\n",
       "    .dataframe tbody tr th {\n",
       "        vertical-align: top;\n",
       "    }\n",
       "\n",
       "    .dataframe thead th {\n",
       "        text-align: right;\n",
       "    }\n",
       "</style>\n",
       "<table border=\"1\" class=\"dataframe\">\n",
       "  <thead>\n",
       "    <tr style=\"text-align: right;\">\n",
       "      <th></th>\n",
       "      <th>Date</th>\n",
       "      <th>Open</th>\n",
       "      <th>High</th>\n",
       "      <th>Low</th>\n",
       "      <th>Close</th>\n",
       "      <th>Adj Close</th>\n",
       "      <th>Volume</th>\n",
       "    </tr>\n",
       "  </thead>\n",
       "  <tbody>\n",
       "    <tr>\n",
       "      <th>0</th>\n",
       "      <td>2019-11-01</td>\n",
       "      <td>1265.000000</td>\n",
       "      <td>1274.619995</td>\n",
       "      <td>1260.500000</td>\n",
       "      <td>1273.739990</td>\n",
       "      <td>1273.739990</td>\n",
       "      <td>1670100</td>\n",
       "    </tr>\n",
       "    <tr>\n",
       "      <th>1</th>\n",
       "      <td>2019-11-04</td>\n",
       "      <td>1276.449951</td>\n",
       "      <td>1294.130005</td>\n",
       "      <td>1276.354980</td>\n",
       "      <td>1291.369995</td>\n",
       "      <td>1291.369995</td>\n",
       "      <td>1501000</td>\n",
       "    </tr>\n",
       "    <tr>\n",
       "      <th>2</th>\n",
       "      <td>2019-11-05</td>\n",
       "      <td>1292.890015</td>\n",
       "      <td>1298.930054</td>\n",
       "      <td>1291.229004</td>\n",
       "      <td>1292.030029</td>\n",
       "      <td>1292.030029</td>\n",
       "      <td>1282700</td>\n",
       "    </tr>\n",
       "    <tr>\n",
       "      <th>3</th>\n",
       "      <td>2019-11-06</td>\n",
       "      <td>1289.459961</td>\n",
       "      <td>1293.729980</td>\n",
       "      <td>1282.500000</td>\n",
       "      <td>1291.800049</td>\n",
       "      <td>1291.800049</td>\n",
       "      <td>1152700</td>\n",
       "    </tr>\n",
       "    <tr>\n",
       "      <th>4</th>\n",
       "      <td>2019-11-07</td>\n",
       "      <td>1294.280029</td>\n",
       "      <td>1323.739990</td>\n",
       "      <td>1294.244995</td>\n",
       "      <td>1308.859985</td>\n",
       "      <td>1308.859985</td>\n",
       "      <td>2030000</td>\n",
       "    </tr>\n",
       "    <tr>\n",
       "      <th>5</th>\n",
       "      <td>2019-11-08</td>\n",
       "      <td>1305.280029</td>\n",
       "      <td>1318.000000</td>\n",
       "      <td>1304.364990</td>\n",
       "      <td>1311.369995</td>\n",
       "      <td>1311.369995</td>\n",
       "      <td>1251400</td>\n",
       "    </tr>\n",
       "    <tr>\n",
       "      <th>6</th>\n",
       "      <td>2019-11-11</td>\n",
       "      <td>1303.180054</td>\n",
       "      <td>1306.425049</td>\n",
       "      <td>1297.410034</td>\n",
       "      <td>1299.189941</td>\n",
       "      <td>1299.189941</td>\n",
       "      <td>1011900</td>\n",
       "    </tr>\n",
       "    <tr>\n",
       "      <th>7</th>\n",
       "      <td>2019-11-12</td>\n",
       "      <td>1300.000000</td>\n",
       "      <td>1310.000000</td>\n",
       "      <td>1295.770020</td>\n",
       "      <td>1298.800049</td>\n",
       "      <td>1298.800049</td>\n",
       "      <td>1085900</td>\n",
       "    </tr>\n",
       "    <tr>\n",
       "      <th>8</th>\n",
       "      <td>2019-11-13</td>\n",
       "      <td>1294.069946</td>\n",
       "      <td>1304.300049</td>\n",
       "      <td>1293.510010</td>\n",
       "      <td>1298.000000</td>\n",
       "      <td>1298.000000</td>\n",
       "      <td>826700</td>\n",
       "    </tr>\n",
       "    <tr>\n",
       "      <th>9</th>\n",
       "      <td>2019-11-14</td>\n",
       "      <td>1297.500000</td>\n",
       "      <td>1317.000000</td>\n",
       "      <td>1295.650024</td>\n",
       "      <td>1311.459961</td>\n",
       "      <td>1311.459961</td>\n",
       "      <td>1193500</td>\n",
       "    </tr>\n",
       "    <tr>\n",
       "      <th>10</th>\n",
       "      <td>2019-11-15</td>\n",
       "      <td>1318.939941</td>\n",
       "      <td>1334.880005</td>\n",
       "      <td>1314.280029</td>\n",
       "      <td>1334.869995</td>\n",
       "      <td>1334.869995</td>\n",
       "      <td>1782600</td>\n",
       "    </tr>\n",
       "    <tr>\n",
       "      <th>11</th>\n",
       "      <td>2019-11-18</td>\n",
       "      <td>1332.219971</td>\n",
       "      <td>1335.529053</td>\n",
       "      <td>1317.500000</td>\n",
       "      <td>1320.699951</td>\n",
       "      <td>1320.699951</td>\n",
       "      <td>1487400</td>\n",
       "    </tr>\n",
       "    <tr>\n",
       "      <th>12</th>\n",
       "      <td>2019-11-19</td>\n",
       "      <td>1327.699951</td>\n",
       "      <td>1327.699951</td>\n",
       "      <td>1312.800049</td>\n",
       "      <td>1315.459961</td>\n",
       "      <td>1315.459961</td>\n",
       "      <td>1269200</td>\n",
       "    </tr>\n",
       "    <tr>\n",
       "      <th>13</th>\n",
       "      <td>2019-11-20</td>\n",
       "      <td>1311.739990</td>\n",
       "      <td>1315.000000</td>\n",
       "      <td>1291.150024</td>\n",
       "      <td>1303.050049</td>\n",
       "      <td>1303.050049</td>\n",
       "      <td>1308600</td>\n",
       "    </tr>\n",
       "    <tr>\n",
       "      <th>14</th>\n",
       "      <td>2019-11-21</td>\n",
       "      <td>1301.479980</td>\n",
       "      <td>1312.589966</td>\n",
       "      <td>1293.000000</td>\n",
       "      <td>1301.349976</td>\n",
       "      <td>1301.349976</td>\n",
       "      <td>995500</td>\n",
       "    </tr>\n",
       "  </tbody>\n",
       "</table>\n",
       "</div>"
      ],
      "text/plain": [
       "          Date         Open         High  ...        Close    Adj Close   Volume\n",
       "0   2019-11-01  1265.000000  1274.619995  ...  1273.739990  1273.739990  1670100\n",
       "1   2019-11-04  1276.449951  1294.130005  ...  1291.369995  1291.369995  1501000\n",
       "2   2019-11-05  1292.890015  1298.930054  ...  1292.030029  1292.030029  1282700\n",
       "3   2019-11-06  1289.459961  1293.729980  ...  1291.800049  1291.800049  1152700\n",
       "4   2019-11-07  1294.280029  1323.739990  ...  1308.859985  1308.859985  2030000\n",
       "5   2019-11-08  1305.280029  1318.000000  ...  1311.369995  1311.369995  1251400\n",
       "6   2019-11-11  1303.180054  1306.425049  ...  1299.189941  1299.189941  1011900\n",
       "7   2019-11-12  1300.000000  1310.000000  ...  1298.800049  1298.800049  1085900\n",
       "8   2019-11-13  1294.069946  1304.300049  ...  1298.000000  1298.000000   826700\n",
       "9   2019-11-14  1297.500000  1317.000000  ...  1311.459961  1311.459961  1193500\n",
       "10  2019-11-15  1318.939941  1334.880005  ...  1334.869995  1334.869995  1782600\n",
       "11  2019-11-18  1332.219971  1335.529053  ...  1320.699951  1320.699951  1487400\n",
       "12  2019-11-19  1327.699951  1327.699951  ...  1315.459961  1315.459961  1269200\n",
       "13  2019-11-20  1311.739990  1315.000000  ...  1303.050049  1303.050049  1308600\n",
       "14  2019-11-21  1301.479980  1312.589966  ...  1301.349976  1301.349976   995500\n",
       "\n",
       "[15 rows x 7 columns]"
      ]
     },
     "execution_count": 68,
     "metadata": {
      "tags": []
     },
     "output_type": "execute_result"
    }
   ],
   "source": [
    "df=df.head(len(df)-5)\n",
    "df"
   ]
  },
  {
   "cell_type": "code",
   "execution_count": 69,
   "metadata": {
    "colab": {
     "base_uri": "https://localhost:8080/",
     "height": 34
    },
    "colab_type": "code",
    "executionInfo": {
     "elapsed": 1561,
     "status": "ok",
     "timestamp": 1576124826257,
     "user": {
      "displayName": "ashwini kumar",
      "photoUrl": "",
      "userId": "09197296564027085430"
     },
     "user_tz": -330
    },
    "id": "uEkyMP-tLVjK",
    "outputId": "2196e12d-999a-430e-c71f-00591074be98"
   },
   "outputs": [
    {
     "data": {
      "text/plain": [
       "(15, 7)"
      ]
     },
     "execution_count": 69,
     "metadata": {
      "tags": []
     },
     "output_type": "execute_result"
    }
   ],
   "source": [
    "df.shape"
   ]
  },
  {
   "cell_type": "code",
   "execution_count": 0,
   "metadata": {
    "colab": {},
    "colab_type": "code",
    "id": "1gE4zIHOLcLP"
   },
   "outputs": [],
   "source": [
    "df_dates=df.loc[:,'Date']\n",
    "df_open=df.loc[:,'Open']"
   ]
  },
  {
   "cell_type": "code",
   "execution_count": 0,
   "metadata": {
    "colab": {},
    "colab_type": "code",
    "id": "HAM5RO-JLygS"
   },
   "outputs": [],
   "source": [
    "for date in df_dates:\n",
    "  dates.append([int(date.split(\"-\")[2])])\n",
    "\n",
    "for open_price in df_open:\n",
    "  prices.append(float(open_price))\n"
   ]
  },
  {
   "cell_type": "code",
   "execution_count": 72,
   "metadata": {
    "colab": {
     "base_uri": "https://localhost:8080/",
     "height": 34
    },
    "colab_type": "code",
    "executionInfo": {
     "elapsed": 1441,
     "status": "ok",
     "timestamp": 1576124840661,
     "user": {
      "displayName": "ashwini kumar",
      "photoUrl": "",
      "userId": "09197296564027085430"
     },
     "user_tz": -330
    },
    "id": "Sm4XFwqNMt4N",
    "outputId": "97a59723-660c-4b32-9a34-af3685d880d5"
   },
   "outputs": [
    {
     "name": "stdout",
     "output_type": "stream",
     "text": [
      "[[1], [4], [5], [6], [7], [8], [11], [12], [13], [14], [15], [18], [19], [20], [21]]\n"
     ]
    }
   ],
   "source": [
    "print(dates)"
   ]
  },
  {
   "cell_type": "code",
   "execution_count": 0,
   "metadata": {
    "colab": {},
    "colab_type": "code",
    "id": "S0HCzlMaM1Ip"
   },
   "outputs": [],
   "source": [
    "def predict_prices(dates, prices, x):\n",
    "  \n",
    "  #Create the 3 Support Vector Regression models\n",
    "  svr_lin = SVR(kernel='linear', C= 1e3)\n",
    "  svr_poly= SVR(kernel='poly', C=1e3, degree=2)\n",
    "  svr_rbf = SVR(kernel='rbf', C=1e3, gamma=0.1)\n",
    "  \n",
    "  #Train the SVR models \n",
    "  svr_lin.fit(dates,prices)\n",
    "  svr_poly.fit(dates,prices)\n",
    "  svr_rbf.fit(dates,prices)\n",
    "  \n",
    "  #Create the Linear Regression model\n",
    "  lin_reg = LinearRegression()\n",
    "  #Train the Linear Regression model\n",
    "  lin_reg.fit(dates,prices)\n",
    "  \n",
    "  #Plot the models on a graph to see which has the best fit\n",
    "  plt.scatter(dates, prices, color='black', label='Data')\n",
    "  plt.plot(dates, svr_rbf.predict(dates), color='red', label='SVR RBF')\n",
    "  plt.plot(dates, svr_poly.predict(dates), color='blue', label='SVR Poly')\n",
    "  plt.plot(dates, svr_lin.predict(dates), color='green', label='SVR Linear')\n",
    "  plt.plot(dates, lin_reg.predict(dates), color='orange', label='Linear Reg')\n",
    "  plt.xlabel('Days')\n",
    "  plt.ylabel('Price')\n",
    "  plt.title('Regression')\n",
    "  plt.legend()\n",
    "  plt.show()\n",
    "  \n",
    "  return svr_rbf.predict(x)[0], svr_lin.predict(x)[0],svr_poly.predict(x)[0],lin_reg.predict(x)[0]"
   ]
  },
  {
   "cell_type": "code",
   "execution_count": 76,
   "metadata": {
    "colab": {
     "base_uri": "https://localhost:8080/",
     "height": 366
    },
    "colab_type": "code",
    "executionInfo": {
     "elapsed": 5895,
     "status": "ok",
     "timestamp": 1576125221394,
     "user": {
      "displayName": "ashwini kumar",
      "photoUrl": "",
      "userId": "09197296564027085430"
     },
     "user_tz": -330
    },
    "id": "Hq6V-9rFP7if",
    "outputId": "5bf6ee60-5477-4c0d-c3e5-51dd09fe6f2b"
   },
   "outputs": [
    {
     "name": "stderr",
     "output_type": "stream",
     "text": [
      "/usr/local/lib/python3.6/dist-packages/sklearn/svm/base.py:193: FutureWarning: The default value of gamma will change from 'auto' to 'scale' in version 0.22 to account better for unscaled features. Set gamma explicitly to 'auto' or 'scale' to avoid this warning.\n",
      "  \"avoid this warning.\", FutureWarning)\n"
     ]
    },
    {
     "data": {
      "image/png": "[encoded data removed]",
      "text/plain": [
       "<Figure size 432x288 with 1 Axes>"
      ]
     },
     "metadata": {
      "tags": []
     },
     "output_type": "display_data"
    },
    {
     "name": "stdout",
     "output_type": "stream",
     "text": [
      "(1300.361543836521, 1329.9634438332719, 1341.8665240512212, 1339.5004035310697)\n"
     ]
    }
   ],
   "source": [
    "predicted_price=predict_prices(dates,prices,[[29]])\n",
    "print(predicted_price)"
   ]
  }
 ],
 "metadata": {
  "colab": {
   "collapsed_sections": [],
   "name": "Googlestocktask.ipynb",
   "provenance": []
  },
  "kernelspec": {
   "display_name": "Python 3",
   "language": "python",
   "name": "python3"
  },
  "language_info": {
   "codemirror_mode": {
    "name": "ipython",
    "version": 3
   },
   "file_extension": ".py",
   "mimetype": "text/x-python",
   "name": "python",
   "nbconvert_exporter": "python",
   "pygments_lexer": "ipython3",
   "version": "3.7.3"
  }
 },
 "nbformat": 4,
 "nbformat_minor": 1
}
