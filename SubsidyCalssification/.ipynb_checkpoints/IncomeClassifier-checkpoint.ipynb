{
 "cells": [
  {
   "cell_type": "markdown",
   "metadata": {},
   "source": [
    "# Income Classifier"
   ]
  },
  {
   "cell_type": "code",
   "execution_count": 10,
   "metadata": {},
   "outputs": [],
   "source": [
    "#Importing necessary libraries\n",
    "\n",
    "import pandas as pd\n",
    "\n",
    "import numpy as np\n",
    "\n",
    "import seaborn as sns\n",
    "\n",
    "from sklearn.model_selection import train_test_split\n",
    "\n",
    "from sklearn.linear_model import LogisticRegression\n",
    "\n",
    "from sklearn.metrics import accuracy_score,confusion_matrix\n"
   ]
  },
  {
   "cell_type": "code",
   "execution_count": 11,
   "metadata": {},
   "outputs": [],
   "source": [
    "# importing data\n",
    "\n",
    "data_income=pd.read_csv('income.csv')"
   ]
  },
  {
   "cell_type": "code",
   "execution_count": 12,
   "metadata": {},
   "outputs": [],
   "source": [
    "#creating copy of the data\n",
    "data=data_income.copy()"
   ]
  },
  {
   "cell_type": "code",
   "execution_count": 13,
   "metadata": {},
   "outputs": [
    {
     "name": "stdout",
     "output_type": "stream",
     "text": [
      "<class 'pandas.core.frame.DataFrame'>\n",
      "RangeIndex: 31978 entries, 0 to 31977\n",
      "Data columns (total 13 columns):\n",
      "age              31978 non-null int64\n",
      "JobType          31978 non-null object\n",
      "EdType           31978 non-null object\n",
      "maritalstatus    31978 non-null object\n",
      "occupation       31978 non-null object\n",
      "relationship     31978 non-null object\n",
      "race             31978 non-null object\n",
      "gender           31978 non-null object\n",
      "capitalgain      31978 non-null int64\n",
      "capitalloss      31978 non-null int64\n",
      "hoursperweek     31978 non-null int64\n",
      "nativecountry    31978 non-null object\n",
      "SalStat          31978 non-null object\n",
      "dtypes: int64(4), object(9)\n",
      "memory usage: 3.2+ MB\n",
      "None\n"
     ]
    }
   ],
   "source": [
    "#Getting to know the data\n",
    "print(data.info())"
   ]
  },
  {
   "cell_type": "code",
   "execution_count": 14,
   "metadata": {},
   "outputs": [
    {
     "name": "stdout",
     "output_type": "stream",
     "text": [
      "age              0\n",
      "JobType          0\n",
      "EdType           0\n",
      "maritalstatus    0\n",
      "occupation       0\n",
      "relationship     0\n",
      "race             0\n",
      "gender           0\n",
      "capitalgain      0\n",
      "capitalloss      0\n",
      "hoursperweek     0\n",
      "nativecountry    0\n",
      "SalStat          0\n",
      "dtype: int64\n"
     ]
    }
   ],
   "source": [
    "#checking for missing values\n",
    "print(data.isnull().sum())"
   ]
  },
  {
   "cell_type": "markdown",
   "metadata": {},
   "source": [
    "No missing values"
   ]
  },
  {
   "cell_type": "code",
   "execution_count": 15,
   "metadata": {},
   "outputs": [
    {
     "name": "stdout",
     "output_type": "stream",
     "text": [
      "                age   capitalgain   capitalloss  hoursperweek\n",
      "count  31978.000000  31978.000000  31978.000000  31978.000000\n",
      "mean      38.579023   1064.360623     86.739352     40.417850\n",
      "std       13.662085   7298.596271    401.594301     12.345285\n",
      "min       17.000000      0.000000      0.000000      1.000000\n",
      "25%       28.000000      0.000000      0.000000     40.000000\n",
      "50%       37.000000      0.000000      0.000000     40.000000\n",
      "75%       48.000000      0.000000      0.000000     45.000000\n",
      "max       90.000000  99999.000000   4356.000000     99.000000\n"
     ]
    }
   ],
   "source": [
    "#getting summary of numerical varaibale\n",
    "summary_num=data.describe()\n",
    "print(summary_num)"
   ]
  },
  {
   "cell_type": "code",
   "execution_count": 16,
   "metadata": {},
   "outputs": [
    {
     "name": "stdout",
     "output_type": "stream",
     "text": [
      "         JobType    EdType        maritalstatus       occupation relationship  \\\n",
      "count      31978     31978                31978            31978        31978   \n",
      "unique         9        16                    7               15            6   \n",
      "top      Private   HS-grad   Married-civ-spouse   Prof-specialty      Husband   \n",
      "freq       22286     10368                14692             4038        12947   \n",
      "\n",
      "          race gender   nativecountry                        SalStat  \n",
      "count    31978  31978           31978                          31978  \n",
      "unique       5      2              41                              2  \n",
      "top      White   Male   United-States   less than or equal to 50,000  \n",
      "freq     27430  21370           29170                          24283  \n"
     ]
    }
   ],
   "source": [
    "#summary for categorical variables\n",
    "summary_cat=data.describe(include='O')\n",
    "print(summary_cat)"
   ]
  },
  {
   "cell_type": "markdown",
   "metadata": {},
   "source": [
    "Frequency of each categories"
   ]
  },
  {
   "cell_type": "code",
   "execution_count": 18,
   "metadata": {},
   "outputs": [
    {
     "name": "stdout",
     "output_type": "stream",
     "text": [
      " Private             22286\n",
      " Self-emp-not-inc     2499\n",
      " Local-gov            2067\n",
      " ?                    1809\n",
      " State-gov            1279\n",
      " Self-emp-inc         1074\n",
      " Federal-gov           943\n",
      " Without-pay            14\n",
      " Never-worked            7\n",
      "Name: JobType, dtype: int64\n"
     ]
    }
   ],
   "source": [
    "#variable JobType \n",
    "print(data['JobType'].value_counts())"
   ]
  },
  {
   "cell_type": "markdown",
   "metadata": {},
   "source": [
    "? marks is present in JobType"
   ]
  },
  {
   "cell_type": "code",
   "execution_count": 21,
   "metadata": {},
   "outputs": [
    {
     "name": "stdout",
     "output_type": "stream",
     "text": [
      "JobTYpe:  [' ?' ' Federal-gov' ' Local-gov' ' Never-worked' ' Private'\n",
      " ' Self-emp-inc' ' Self-emp-not-inc' ' State-gov' ' Without-pay']\n",
      "\n",
      " EdType:  [' 10th' ' 11th' ' 12th' ' 1st-4th' ' 5th-6th' ' 7th-8th' ' 9th'\n",
      " ' Assoc-acdm' ' Assoc-voc' ' Bachelors' ' Doctorate' ' HS-grad'\n",
      " ' Masters' ' Preschool' ' Prof-school' ' Some-college']\n",
      "\n",
      " occupation:  [' ?' ' Adm-clerical' ' Armed-Forces' ' Craft-repair' ' Exec-managerial'\n",
      " ' Farming-fishing' ' Handlers-cleaners' ' Machine-op-inspct'\n",
      " ' Other-service' ' Priv-house-serv' ' Prof-specialty' ' Protective-serv'\n",
      " ' Sales' ' Tech-support' ' Transport-moving']\n",
      "\n",
      " relationship: [' Husband' ' Not-in-family' ' Other-relative' ' Own-child' ' Unmarried'\n",
      " ' Wife']\n",
      "\n",
      " race:  [' Amer-Indian-Eskimo' ' Asian-Pac-Islander' ' Black' ' Other' ' White']\n",
      "\n",
      " gender:  [' Female' ' Male']\n",
      "\n",
      " nativeCountry:  [' Cambodia' ' Canada' ' China' ' Columbia' ' Cuba' ' Dominican-Republic'\n",
      " ' Ecuador' ' El-Salvador' ' England' ' France' ' Germany' ' Greece'\n",
      " ' Guatemala' ' Haiti' ' Holand-Netherlands' ' Honduras' ' Hong'\n",
      " ' Hungary' ' India' ' Iran' ' Ireland' ' Italy' ' Jamaica' ' Japan'\n",
      " ' Laos' ' Mexico' ' Nicaragua' ' Outlying-US(Guam-USVI-etc)' ' Peru'\n",
      " ' Philippines' ' Poland' ' Portugal' ' Puerto-Rico' ' Scotland' ' South'\n",
      " ' Taiwan' ' Thailand' ' Trinadad&Tobago' ' United-States' ' Vietnam'\n",
      " ' Yugoslavia']\n",
      "\n",
      " SalStat: [' greater than 50,000' ' less than or equal to 50,000']\n"
     ]
    }
   ],
   "source": [
    "#let's look for special characters\n",
    "print(\"JobTYpe: \",np.unique(data['JobType']))\n",
    "print(\"\\n EdType: \",np.unique(data['EdType']))\n",
    "print(\"\\n occupation: \",np.unique(data['occupation']))\n",
    "print(\"\\n relationship:\",np.unique(data['relationship']))\n",
    "print(\"\\n race: \",np.unique(data['race']))\n",
    "print(\"\\n gender: \",np.unique(data['gender']))\n",
    "print(\"\\n nativeCountry: \",np.unique(data['nativecountry']))\n",
    "print(\"\\n SalStat:\",np.unique(data['SalStat']))"
   ]
  },
  {
   "cell_type": "code",
   "execution_count": 24,
   "metadata": {},
   "outputs": [],
   "source": [
    "#converting special characters to na_values.\n",
    "data=pd.read_csv('income.csv',na_values=[' ?'])"
   ]
  },
  {
   "cell_type": "code",
   "execution_count": 25,
   "metadata": {},
   "outputs": [
    {
     "name": "stdout",
     "output_type": "stream",
     "text": [
      "<class 'pandas.core.frame.DataFrame'>\n",
      "RangeIndex: 31978 entries, 0 to 31977\n",
      "Data columns (total 13 columns):\n",
      "age              31978 non-null int64\n",
      "JobType          30169 non-null object\n",
      "EdType           31978 non-null object\n",
      "maritalstatus    31978 non-null object\n",
      "occupation       30162 non-null object\n",
      "relationship     31978 non-null object\n",
      "race             31978 non-null object\n",
      "gender           31978 non-null object\n",
      "capitalgain      31978 non-null int64\n",
      "capitalloss      31978 non-null int64\n",
      "hoursperweek     31978 non-null int64\n",
      "nativecountry    31978 non-null object\n",
      "SalStat          31978 non-null object\n",
      "dtypes: int64(4), object(9)\n",
      "memory usage: 3.2+ MB\n"
     ]
    }
   ],
   "source": [
    "data.info()"
   ]
  },
  {
   "cell_type": "code",
   "execution_count": 26,
   "metadata": {},
   "outputs": [
    {
     "data": {
      "text/plain": [
       "age                 0\n",
       "JobType          1809\n",
       "EdType              0\n",
       "maritalstatus       0\n",
       "occupation       1816\n",
       "relationship        0\n",
       "race                0\n",
       "gender              0\n",
       "capitalgain         0\n",
       "capitalloss         0\n",
       "hoursperweek        0\n",
       "nativecountry       0\n",
       "SalStat             0\n",
       "dtype: int64"
      ]
     },
     "execution_count": 26,
     "metadata": {},
     "output_type": "execute_result"
    }
   ],
   "source": [
    "#data preprocessing\n",
    "data.isnull().sum()"
   ]
  },
  {
   "cell_type": "code",
   "execution_count": 29,
   "metadata": {},
   "outputs": [
    {
     "name": "stdout",
     "output_type": "stream",
     "text": [
      "       age JobType         EdType           maritalstatus occupation  \\\n",
      "8       17     NaN           11th           Never-married        NaN   \n",
      "17      32     NaN   Some-college      Married-civ-spouse        NaN   \n",
      "29      22     NaN   Some-college           Never-married        NaN   \n",
      "42      52     NaN           12th           Never-married        NaN   \n",
      "44      63     NaN        1st-4th      Married-civ-spouse        NaN   \n",
      "57      72     NaN        HS-grad      Married-civ-spouse        NaN   \n",
      "69      53     NaN        5th-6th                 Widowed        NaN   \n",
      "73      57     NaN      Assoc-voc                 Widowed        NaN   \n",
      "75      20     NaN   Some-college           Never-married        NaN   \n",
      "76      21     NaN   Some-college           Never-married        NaN   \n",
      "97      34     NaN        HS-grad           Never-married        NaN   \n",
      "133     18     NaN           12th           Never-married        NaN   \n",
      "137     65     NaN   Some-college      Married-civ-spouse        NaN   \n",
      "147     42     NaN        HS-grad      Married-civ-spouse        NaN   \n",
      "148     55     NaN        HS-grad      Married-civ-spouse        NaN   \n",
      "153     23     NaN   Some-college           Never-married        NaN   \n",
      "205     58     NaN        HS-grad      Married-civ-spouse        NaN   \n",
      "213     70     NaN            9th                 Widowed        NaN   \n",
      "225     20     NaN           11th   Married-spouse-absent        NaN   \n",
      "228     17     NaN           11th           Never-married        NaN   \n",
      "243     66     NaN        7th-8th           Never-married        NaN   \n",
      "252     25     NaN     Assoc-acdm           Never-married        NaN   \n",
      "288     45     NaN   Some-college      Married-civ-spouse        NaN   \n",
      "340     59     NaN        HS-grad      Married-civ-spouse        NaN   \n",
      "341     21     NaN        HS-grad           Never-married        NaN   \n",
      "344     18     NaN   Some-college           Never-married        NaN   \n",
      "358     50     NaN        Masters   Married-spouse-absent        NaN   \n",
      "363     22     NaN   Some-college           Never-married        NaN   \n",
      "382     42     NaN           11th      Married-civ-spouse        NaN   \n",
      "386     72     NaN           11th                 Widowed        NaN   \n",
      "...    ...     ...            ...                     ...        ...   \n",
      "31478   60     NaN            9th                Divorced        NaN   \n",
      "31481   82     NaN        HS-grad           Never-married        NaN   \n",
      "31515   35     NaN      Bachelors      Married-civ-spouse        NaN   \n",
      "31516   30     NaN      Bachelors           Never-married        NaN   \n",
      "31524   71     NaN      Doctorate      Married-civ-spouse        NaN   \n",
      "31526   41     NaN        HS-grad               Separated        NaN   \n",
      "31527   72     NaN        HS-grad      Married-civ-spouse        NaN   \n",
      "31572   54     NaN   Some-college      Married-civ-spouse        NaN   \n",
      "31611   25     NaN   Some-college           Never-married        NaN   \n",
      "31619   67     NaN           10th      Married-civ-spouse        NaN   \n",
      "31647   17     NaN           10th           Never-married        NaN   \n",
      "31669   35     NaN        HS-grad      Married-civ-spouse        NaN   \n",
      "31690   43     NaN   Some-college                Divorced        NaN   \n",
      "31695   52     NaN        HS-grad                Divorced        NaN   \n",
      "31701   68     NaN        1st-4th                Divorced        NaN   \n",
      "31728   53     NaN      Bachelors                Divorced        NaN   \n",
      "31742   19     NaN        HS-grad           Never-married        NaN   \n",
      "31762   64     NaN        1st-4th                Divorced        NaN   \n",
      "31767   60     NaN           10th                Divorced        NaN   \n",
      "31784   20     NaN   Some-college           Never-married        NaN   \n",
      "31805   19     NaN   Some-college           Never-married        NaN   \n",
      "31850   19     NaN   Some-college           Never-married        NaN   \n",
      "31864   23     NaN      Assoc-voc           Never-married        NaN   \n",
      "31884   67     NaN           11th      Married-civ-spouse        NaN   \n",
      "31885   30     NaN      Assoc-voc                Divorced        NaN   \n",
      "31892   59     NaN      Bachelors      Married-civ-spouse        NaN   \n",
      "31934   20     NaN        HS-grad           Never-married        NaN   \n",
      "31945   28     NaN   Some-college      Married-civ-spouse        NaN   \n",
      "31967   80     NaN        HS-grad                 Widowed        NaN   \n",
      "31968   17     NaN           11th           Never-married        NaN   \n",
      "\n",
      "          relationship                 race   gender  capitalgain  \\\n",
      "8            Own-child                White   Female            0   \n",
      "17             Husband                White     Male            0   \n",
      "29           Own-child                White     Male            0   \n",
      "42      Other-relative                Black     Male          594   \n",
      "44             Husband                White     Male            0   \n",
      "57             Husband                White     Male            0   \n",
      "69           Unmarried                Black   Female            0   \n",
      "73           Unmarried                White   Female            0   \n",
      "75           Own-child                White     Male            0   \n",
      "76           Unmarried                White   Female            0   \n",
      "97           Unmarried                Black   Female            0   \n",
      "133          Own-child                White     Male            0   \n",
      "137            Husband                White     Male            0   \n",
      "147            Husband                White     Male            0   \n",
      "148               Wife   Asian-Pac-Islander   Female            0   \n",
      "153          Unmarried   Amer-Indian-Eskimo   Female            0   \n",
      "205            Husband                White     Male            0   \n",
      "213          Unmarried                White   Female         1111   \n",
      "225          Own-child   Asian-Pac-Islander   Female            0   \n",
      "228          Own-child                White   Female            0   \n",
      "243      Not-in-family                White     Male            0   \n",
      "252     Other-relative                White     Male            0   \n",
      "288               Wife                Black   Female            0   \n",
      "340            Husband                White     Male            0   \n",
      "341      Not-in-family                White   Female         1055   \n",
      "344          Own-child                White     Male            0   \n",
      "358     Other-relative                White     Male            0   \n",
      "363          Own-child                Black     Male            0   \n",
      "382            Husband                White     Male            0   \n",
      "386      Not-in-family                White   Female            0   \n",
      "...                ...                  ...      ...          ...   \n",
      "31478    Not-in-family                Black     Male            0   \n",
      "31481    Not-in-family                White     Male            0   \n",
      "31515             Wife                White   Female            0   \n",
      "31516    Not-in-family   Asian-Pac-Islander   Female            0   \n",
      "31524          Husband                White     Male            0   \n",
      "31526    Not-in-family                Black   Female            0   \n",
      "31527          Husband                White     Male            0   \n",
      "31572          Husband   Asian-Pac-Islander     Male            0   \n",
      "31611        Own-child                White     Male            0   \n",
      "31619          Husband                White     Male            0   \n",
      "31647        Own-child                White   Female        34095   \n",
      "31669          Husband                White     Male            0   \n",
      "31690    Not-in-family                White   Female            0   \n",
      "31695    Not-in-family                White     Male            0   \n",
      "31701    Not-in-family                White   Female            0   \n",
      "31728    Not-in-family                White   Female            0   \n",
      "31742        Own-child                White     Male            0   \n",
      "31762    Not-in-family                White     Male            0   \n",
      "31767    Not-in-family   Amer-Indian-Eskimo   Female            0   \n",
      "31784        Own-child                White     Male            0   \n",
      "31805        Own-child                White     Male            0   \n",
      "31850        Own-child                Black   Female            0   \n",
      "31864        Own-child                Black   Female            0   \n",
      "31884          Husband                White     Male            0   \n",
      "31885        Unmarried                White   Female            0   \n",
      "31892          Husband                White     Male            0   \n",
      "31934   Other-relative                White   Female            0   \n",
      "31945             Wife                White   Female            0   \n",
      "31967    Not-in-family                White     Male            0   \n",
      "31968        Own-child                White     Male            0   \n",
      "\n",
      "       capitalloss  hoursperweek   nativecountry  \\\n",
      "8                0             5   United-States   \n",
      "17               0            40   United-States   \n",
      "29               0            40   United-States   \n",
      "42               0            40   United-States   \n",
      "44               0            35   United-States   \n",
      "57               0            20   United-States   \n",
      "69               0            30   United-States   \n",
      "73               0            38   United-States   \n",
      "75               0            24   United-States   \n",
      "76               0            35   United-States   \n",
      "97               0            40   United-States   \n",
      "133              0            25   United-States   \n",
      "137              0            30   United-States   \n",
      "147              0            40   United-States   \n",
      "148              0            40   United-States   \n",
      "153              0            25   United-States   \n",
      "205              0            50   United-States   \n",
      "213              0            15   United-States   \n",
      "225           1762            40           South   \n",
      "228              0            20   United-States   \n",
      "243              0             4   United-States   \n",
      "252              0            45   United-States   \n",
      "288              0            40   United-States   \n",
      "340              0            16   United-States   \n",
      "341              0            40   United-States   \n",
      "344              0            33   United-States   \n",
      "358              0            40   United-States   \n",
      "363              0            40   United-States   \n",
      "382              0            15   United-States   \n",
      "386              0            24   United-States   \n",
      "...            ...           ...             ...   \n",
      "31478            0            35   United-States   \n",
      "31481            0             3   United-States   \n",
      "31515            0            55   United-States   \n",
      "31516            0            99   United-States   \n",
      "31524            0            10   United-States   \n",
      "31526            0            32   United-States   \n",
      "31527            0            25   United-States   \n",
      "31572            0            60           South   \n",
      "31611            0            40   United-States   \n",
      "31619            0             2   United-States   \n",
      "31647            0            32   United-States   \n",
      "31669            0            40   United-States   \n",
      "31690            0            40   United-States   \n",
      "31695            0            45   United-States   \n",
      "31701            0            20   United-States   \n",
      "31728            0            50   United-States   \n",
      "31742            0            40           Italy   \n",
      "31762            0            40   United-States   \n",
      "31767            0            10   United-States   \n",
      "31784            0            20   United-States   \n",
      "31805            0            24          Canada   \n",
      "31850            0            25   United-States   \n",
      "31864            0            15   United-States   \n",
      "31884            0             8   United-States   \n",
      "31885            0            40   United-States   \n",
      "31892            0            40   United-States   \n",
      "31934            0            35   United-States   \n",
      "31945         1887            40   United-States   \n",
      "31967            0            24   United-States   \n",
      "31968            0            40   United-States   \n",
      "\n",
      "                             SalStat  \n",
      "8       less than or equal to 50,000  \n",
      "17      less than or equal to 50,000  \n",
      "29      less than or equal to 50,000  \n",
      "42      less than or equal to 50,000  \n",
      "44      less than or equal to 50,000  \n",
      "57      less than or equal to 50,000  \n",
      "69      less than or equal to 50,000  \n",
      "73      less than or equal to 50,000  \n",
      "75      less than or equal to 50,000  \n",
      "76      less than or equal to 50,000  \n",
      "97      less than or equal to 50,000  \n",
      "133     less than or equal to 50,000  \n",
      "137              greater than 50,000  \n",
      "147     less than or equal to 50,000  \n",
      "148     less than or equal to 50,000  \n",
      "153     less than or equal to 50,000  \n",
      "205     less than or equal to 50,000  \n",
      "213     less than or equal to 50,000  \n",
      "225     less than or equal to 50,000  \n",
      "228     less than or equal to 50,000  \n",
      "243     less than or equal to 50,000  \n",
      "252     less than or equal to 50,000  \n",
      "288     less than or equal to 50,000  \n",
      "340     less than or equal to 50,000  \n",
      "341     less than or equal to 50,000  \n",
      "344     less than or equal to 50,000  \n",
      "358     less than or equal to 50,000  \n",
      "363     less than or equal to 50,000  \n",
      "382     less than or equal to 50,000  \n",
      "386     less than or equal to 50,000  \n",
      "...                              ...  \n",
      "31478   less than or equal to 50,000  \n",
      "31481   less than or equal to 50,000  \n",
      "31515            greater than 50,000  \n",
      "31516   less than or equal to 50,000  \n",
      "31524            greater than 50,000  \n",
      "31526   less than or equal to 50,000  \n",
      "31527   less than or equal to 50,000  \n",
      "31572            greater than 50,000  \n",
      "31611   less than or equal to 50,000  \n",
      "31619   less than or equal to 50,000  \n",
      "31647   less than or equal to 50,000  \n",
      "31669   less than or equal to 50,000  \n",
      "31690   less than or equal to 50,000  \n",
      "31695            greater than 50,000  \n",
      "31701   less than or equal to 50,000  \n",
      "31728   less than or equal to 50,000  \n",
      "31742   less than or equal to 50,000  \n",
      "31762   less than or equal to 50,000  \n",
      "31767   less than or equal to 50,000  \n",
      "31784   less than or equal to 50,000  \n",
      "31805   less than or equal to 50,000  \n",
      "31850   less than or equal to 50,000  \n",
      "31864   less than or equal to 50,000  \n",
      "31884   less than or equal to 50,000  \n",
      "31885   less than or equal to 50,000  \n",
      "31892            greater than 50,000  \n",
      "31934   less than or equal to 50,000  \n",
      "31945            greater than 50,000  \n",
      "31967   less than or equal to 50,000  \n",
      "31968   less than or equal to 50,000  \n",
      "\n",
      "[1816 rows x 13 columns]\n"
     ]
    }
   ],
   "source": [
    "#to consider atleast one column value is missing\n",
    "missing=data[data.isnull().any(axis=1)]\n",
    "print(missing)"
   ]
  },
  {
   "cell_type": "code",
   "execution_count": 30,
   "metadata": {},
   "outputs": [
    {
     "name": "stdout",
     "output_type": "stream",
     "text": [
      "       age        JobType         EdType           maritalstatus occupation  \\\n",
      "4825    18   Never-worked           10th           Never-married        NaN   \n",
      "10215   23   Never-worked        7th-8th                Divorced        NaN   \n",
      "14073   17   Never-worked           10th           Never-married        NaN   \n",
      "19542   18   Never-worked           11th           Never-married        NaN   \n",
      "22385   20   Never-worked   Some-college           Never-married        NaN   \n",
      "31296   30   Never-worked        HS-grad      Married-civ-spouse        NaN   \n",
      "31305   18   Never-worked   Some-college           Never-married        NaN   \n",
      "8       17            NaN           11th           Never-married        NaN   \n",
      "17      32            NaN   Some-college      Married-civ-spouse        NaN   \n",
      "29      22            NaN   Some-college           Never-married        NaN   \n",
      "42      52            NaN           12th           Never-married        NaN   \n",
      "44      63            NaN        1st-4th      Married-civ-spouse        NaN   \n",
      "57      72            NaN        HS-grad      Married-civ-spouse        NaN   \n",
      "69      53            NaN        5th-6th                 Widowed        NaN   \n",
      "73      57            NaN      Assoc-voc                 Widowed        NaN   \n",
      "75      20            NaN   Some-college           Never-married        NaN   \n",
      "76      21            NaN   Some-college           Never-married        NaN   \n",
      "97      34            NaN        HS-grad           Never-married        NaN   \n",
      "133     18            NaN           12th           Never-married        NaN   \n",
      "137     65            NaN   Some-college      Married-civ-spouse        NaN   \n",
      "147     42            NaN        HS-grad      Married-civ-spouse        NaN   \n",
      "148     55            NaN        HS-grad      Married-civ-spouse        NaN   \n",
      "153     23            NaN   Some-college           Never-married        NaN   \n",
      "205     58            NaN        HS-grad      Married-civ-spouse        NaN   \n",
      "213     70            NaN            9th                 Widowed        NaN   \n",
      "225     20            NaN           11th   Married-spouse-absent        NaN   \n",
      "228     17            NaN           11th           Never-married        NaN   \n",
      "243     66            NaN        7th-8th           Never-married        NaN   \n",
      "252     25            NaN     Assoc-acdm           Never-married        NaN   \n",
      "288     45            NaN   Some-college      Married-civ-spouse        NaN   \n",
      "...    ...            ...            ...                     ...        ...   \n",
      "31478   60            NaN            9th                Divorced        NaN   \n",
      "31481   82            NaN        HS-grad           Never-married        NaN   \n",
      "31515   35            NaN      Bachelors      Married-civ-spouse        NaN   \n",
      "31516   30            NaN      Bachelors           Never-married        NaN   \n",
      "31524   71            NaN      Doctorate      Married-civ-spouse        NaN   \n",
      "31526   41            NaN        HS-grad               Separated        NaN   \n",
      "31527   72            NaN        HS-grad      Married-civ-spouse        NaN   \n",
      "31572   54            NaN   Some-college      Married-civ-spouse        NaN   \n",
      "31611   25            NaN   Some-college           Never-married        NaN   \n",
      "31619   67            NaN           10th      Married-civ-spouse        NaN   \n",
      "31647   17            NaN           10th           Never-married        NaN   \n",
      "31669   35            NaN        HS-grad      Married-civ-spouse        NaN   \n",
      "31690   43            NaN   Some-college                Divorced        NaN   \n",
      "31695   52            NaN        HS-grad                Divorced        NaN   \n",
      "31701   68            NaN        1st-4th                Divorced        NaN   \n",
      "31728   53            NaN      Bachelors                Divorced        NaN   \n",
      "31742   19            NaN        HS-grad           Never-married        NaN   \n",
      "31762   64            NaN        1st-4th                Divorced        NaN   \n",
      "31767   60            NaN           10th                Divorced        NaN   \n",
      "31784   20            NaN   Some-college           Never-married        NaN   \n",
      "31805   19            NaN   Some-college           Never-married        NaN   \n",
      "31850   19            NaN   Some-college           Never-married        NaN   \n",
      "31864   23            NaN      Assoc-voc           Never-married        NaN   \n",
      "31884   67            NaN           11th      Married-civ-spouse        NaN   \n",
      "31885   30            NaN      Assoc-voc                Divorced        NaN   \n",
      "31892   59            NaN      Bachelors      Married-civ-spouse        NaN   \n",
      "31934   20            NaN        HS-grad           Never-married        NaN   \n",
      "31945   28            NaN   Some-college      Married-civ-spouse        NaN   \n",
      "31967   80            NaN        HS-grad                 Widowed        NaN   \n",
      "31968   17            NaN           11th           Never-married        NaN   \n",
      "\n",
      "          relationship                 race   gender  capitalgain  \\\n",
      "4825         Own-child                White     Male            0   \n",
      "10215    Not-in-family                White     Male            0   \n",
      "14073        Own-child                White     Male            0   \n",
      "19542        Own-child                White   Female            0   \n",
      "22385        Own-child                Black     Male            0   \n",
      "31296             Wife                Black   Female            0   \n",
      "31305        Own-child                White     Male            0   \n",
      "8            Own-child                White   Female            0   \n",
      "17             Husband                White     Male            0   \n",
      "29           Own-child                White     Male            0   \n",
      "42      Other-relative                Black     Male          594   \n",
      "44             Husband                White     Male            0   \n",
      "57             Husband                White     Male            0   \n",
      "69           Unmarried                Black   Female            0   \n",
      "73           Unmarried                White   Female            0   \n",
      "75           Own-child                White     Male            0   \n",
      "76           Unmarried                White   Female            0   \n",
      "97           Unmarried                Black   Female            0   \n",
      "133          Own-child                White     Male            0   \n",
      "137            Husband                White     Male            0   \n",
      "147            Husband                White     Male            0   \n",
      "148               Wife   Asian-Pac-Islander   Female            0   \n",
      "153          Unmarried   Amer-Indian-Eskimo   Female            0   \n",
      "205            Husband                White     Male            0   \n",
      "213          Unmarried                White   Female         1111   \n",
      "225          Own-child   Asian-Pac-Islander   Female            0   \n",
      "228          Own-child                White   Female            0   \n",
      "243      Not-in-family                White     Male            0   \n",
      "252     Other-relative                White     Male            0   \n",
      "288               Wife                Black   Female            0   \n",
      "...                ...                  ...      ...          ...   \n",
      "31478    Not-in-family                Black     Male            0   \n",
      "31481    Not-in-family                White     Male            0   \n",
      "31515             Wife                White   Female            0   \n",
      "31516    Not-in-family   Asian-Pac-Islander   Female            0   \n",
      "31524          Husband                White     Male            0   \n",
      "31526    Not-in-family                Black   Female            0   \n",
      "31527          Husband                White     Male            0   \n",
      "31572          Husband   Asian-Pac-Islander     Male            0   \n",
      "31611        Own-child                White     Male            0   \n",
      "31619          Husband                White     Male            0   \n",
      "31647        Own-child                White   Female        34095   \n",
      "31669          Husband                White     Male            0   \n",
      "31690    Not-in-family                White   Female            0   \n",
      "31695    Not-in-family                White     Male            0   \n",
      "31701    Not-in-family                White   Female            0   \n",
      "31728    Not-in-family                White   Female            0   \n",
      "31742        Own-child                White     Male            0   \n",
      "31762    Not-in-family                White     Male            0   \n",
      "31767    Not-in-family   Amer-Indian-Eskimo   Female            0   \n",
      "31784        Own-child                White     Male            0   \n",
      "31805        Own-child                White     Male            0   \n",
      "31850        Own-child                Black   Female            0   \n",
      "31864        Own-child                Black   Female            0   \n",
      "31884          Husband                White     Male            0   \n",
      "31885        Unmarried                White   Female            0   \n",
      "31892          Husband                White     Male            0   \n",
      "31934   Other-relative                White   Female            0   \n",
      "31945             Wife                White   Female            0   \n",
      "31967    Not-in-family                White     Male            0   \n",
      "31968        Own-child                White     Male            0   \n",
      "\n",
      "       capitalloss  hoursperweek   nativecountry  \\\n",
      "4825             0            40   United-States   \n",
      "10215            0            35   United-States   \n",
      "14073            0            30   United-States   \n",
      "19542            0            10   United-States   \n",
      "22385            0            40   United-States   \n",
      "31296            0            40   United-States   \n",
      "31305            0             4   United-States   \n",
      "8                0             5   United-States   \n",
      "17               0            40   United-States   \n",
      "29               0            40   United-States   \n",
      "42               0            40   United-States   \n",
      "44               0            35   United-States   \n",
      "57               0            20   United-States   \n",
      "69               0            30   United-States   \n",
      "73               0            38   United-States   \n",
      "75               0            24   United-States   \n",
      "76               0            35   United-States   \n",
      "97               0            40   United-States   \n",
      "133              0            25   United-States   \n",
      "137              0            30   United-States   \n",
      "147              0            40   United-States   \n",
      "148              0            40   United-States   \n",
      "153              0            25   United-States   \n",
      "205              0            50   United-States   \n",
      "213              0            15   United-States   \n",
      "225           1762            40           South   \n",
      "228              0            20   United-States   \n",
      "243              0             4   United-States   \n",
      "252              0            45   United-States   \n",
      "288              0            40   United-States   \n",
      "...            ...           ...             ...   \n",
      "31478            0            35   United-States   \n",
      "31481            0             3   United-States   \n",
      "31515            0            55   United-States   \n",
      "31516            0            99   United-States   \n",
      "31524            0            10   United-States   \n",
      "31526            0            32   United-States   \n",
      "31527            0            25   United-States   \n",
      "31572            0            60           South   \n",
      "31611            0            40   United-States   \n",
      "31619            0             2   United-States   \n",
      "31647            0            32   United-States   \n",
      "31669            0            40   United-States   \n",
      "31690            0            40   United-States   \n",
      "31695            0            45   United-States   \n",
      "31701            0            20   United-States   \n",
      "31728            0            50   United-States   \n",
      "31742            0            40           Italy   \n",
      "31762            0            40   United-States   \n",
      "31767            0            10   United-States   \n",
      "31784            0            20   United-States   \n",
      "31805            0            24          Canada   \n",
      "31850            0            25   United-States   \n",
      "31864            0            15   United-States   \n",
      "31884            0             8   United-States   \n",
      "31885            0            40   United-States   \n",
      "31892            0            40   United-States   \n",
      "31934            0            35   United-States   \n",
      "31945         1887            40   United-States   \n",
      "31967            0            24   United-States   \n",
      "31968            0            40   United-States   \n",
      "\n",
      "                             SalStat  \n",
      "4825    less than or equal to 50,000  \n",
      "10215   less than or equal to 50,000  \n",
      "14073   less than or equal to 50,000  \n",
      "19542   less than or equal to 50,000  \n",
      "22385   less than or equal to 50,000  \n",
      "31296   less than or equal to 50,000  \n",
      "31305   less than or equal to 50,000  \n",
      "8       less than or equal to 50,000  \n",
      "17      less than or equal to 50,000  \n",
      "29      less than or equal to 50,000  \n",
      "42      less than or equal to 50,000  \n",
      "44      less than or equal to 50,000  \n",
      "57      less than or equal to 50,000  \n",
      "69      less than or equal to 50,000  \n",
      "73      less than or equal to 50,000  \n",
      "75      less than or equal to 50,000  \n",
      "76      less than or equal to 50,000  \n",
      "97      less than or equal to 50,000  \n",
      "133     less than or equal to 50,000  \n",
      "137              greater than 50,000  \n",
      "147     less than or equal to 50,000  \n",
      "148     less than or equal to 50,000  \n",
      "153     less than or equal to 50,000  \n",
      "205     less than or equal to 50,000  \n",
      "213     less than or equal to 50,000  \n",
      "225     less than or equal to 50,000  \n",
      "228     less than or equal to 50,000  \n",
      "243     less than or equal to 50,000  \n",
      "252     less than or equal to 50,000  \n",
      "288     less than or equal to 50,000  \n",
      "...                              ...  \n",
      "31478   less than or equal to 50,000  \n",
      "31481   less than or equal to 50,000  \n",
      "31515            greater than 50,000  \n",
      "31516   less than or equal to 50,000  \n",
      "31524            greater than 50,000  \n",
      "31526   less than or equal to 50,000  \n",
      "31527   less than or equal to 50,000  \n",
      "31572            greater than 50,000  \n",
      "31611   less than or equal to 50,000  \n",
      "31619   less than or equal to 50,000  \n",
      "31647   less than or equal to 50,000  \n",
      "31669   less than or equal to 50,000  \n",
      "31690   less than or equal to 50,000  \n",
      "31695            greater than 50,000  \n",
      "31701   less than or equal to 50,000  \n",
      "31728   less than or equal to 50,000  \n",
      "31742   less than or equal to 50,000  \n",
      "31762   less than or equal to 50,000  \n",
      "31767   less than or equal to 50,000  \n",
      "31784   less than or equal to 50,000  \n",
      "31805   less than or equal to 50,000  \n",
      "31850   less than or equal to 50,000  \n",
      "31864   less than or equal to 50,000  \n",
      "31884   less than or equal to 50,000  \n",
      "31885   less than or equal to 50,000  \n",
      "31892            greater than 50,000  \n",
      "31934   less than or equal to 50,000  \n",
      "31945            greater than 50,000  \n",
      "31967   less than or equal to 50,000  \n",
      "31968   less than or equal to 50,000  \n",
      "\n",
      "[1816 rows x 13 columns]\n"
     ]
    }
   ],
   "source": [
    "print(missing.sort_values(by='JobType'))"
   ]
  },
  {
   "cell_type": "markdown",
   "metadata": {},
   "source": [
    "If the individual has Never-worked the occupation is ovbiously missing.\n",
    "7 rows\n",
    "to impute these 7 rows by some significant Values is complex, let's drop these rows."
   ]
  },
  {
   "cell_type": "code",
   "execution_count": 33,
   "metadata": {},
   "outputs": [
    {
     "name": "stdout",
     "output_type": "stream",
     "text": [
      "<class 'pandas.core.frame.DataFrame'>\n",
      "Int64Index: 30162 entries, 0 to 31977\n",
      "Data columns (total 13 columns):\n",
      "age              30162 non-null int64\n",
      "JobType          30162 non-null object\n",
      "EdType           30162 non-null object\n",
      "maritalstatus    30162 non-null object\n",
      "occupation       30162 non-null object\n",
      "relationship     30162 non-null object\n",
      "race             30162 non-null object\n",
      "gender           30162 non-null object\n",
      "capitalgain      30162 non-null int64\n",
      "capitalloss      30162 non-null int64\n",
      "hoursperweek     30162 non-null int64\n",
      "nativecountry    30162 non-null object\n",
      "SalStat          30162 non-null object\n",
      "dtypes: int64(4), object(9)\n",
      "memory usage: 3.2+ MB\n",
      "None\n"
     ]
    }
   ],
   "source": [
    "#dropping missing values\n",
    "data2=data.dropna(axis=0)\n",
    "print(data2.info())"
   ]
  },
  {
   "cell_type": "code",
   "execution_count": 35,
   "metadata": {},
   "outputs": [
    {
     "name": "stdout",
     "output_type": "stream",
     "text": [
      "                   age  capitalgain  capitalloss  hoursperweek\n",
      "age           1.000000     0.080154     0.060165      0.101599\n",
      "capitalgain   0.080154     1.000000    -0.032229      0.080432\n",
      "capitalloss   0.060165    -0.032229     1.000000      0.052417\n",
      "hoursperweek  0.101599     0.080432     0.052417      1.000000\n"
     ]
    }
   ],
   "source": [
    "#Relationshipbetween independent variables\n",
    "correlation=data2.corr()\n",
    "print(correlation)"
   ]
  },
  {
   "cell_type": "markdown",
   "metadata": {},
   "source": [
    "None of the variables are conisderably correlated with each other."
   ]
  },
  {
   "cell_type": "code",
   "execution_count": 36,
   "metadata": {},
   "outputs": [
    {
     "data": {
      "text/plain": [
       "Index(['age', 'JobType', 'EdType', 'maritalstatus', 'occupation',\n",
       "       'relationship', 'race', 'gender', 'capitalgain', 'capitalloss',\n",
       "       'hoursperweek', 'nativecountry', 'SalStat'],\n",
       "      dtype='object')"
      ]
     },
     "execution_count": 36,
     "metadata": {},
     "output_type": "execute_result"
    }
   ],
   "source": [
    "#extracting the columns names\n",
    "data2.columns"
   ]
  },
  {
   "cell_type": "markdown",
   "metadata": {},
   "source": [
    "Variables and thier dependencies with SalaStat"
   ]
  },
  {
   "cell_type": "code",
   "execution_count": 38,
   "metadata": {},
   "outputs": [
    {
     "name": "stdout",
     "output_type": "stream",
     "text": [
      "col_0       count\n",
      "gender           \n",
      " Female  0.324315\n",
      " Male    0.675685\n"
     ]
    }
   ],
   "source": [
    "#variable gender\n",
    "\n",
    "gender=pd.crosstab(index=data2['gender'],\n",
    "                  columns='count',\n",
    "                  normalize=True)\n",
    "print(gender)"
   ]
  },
  {
   "cell_type": "code",
   "execution_count": 40,
   "metadata": {},
   "outputs": [
    {
     "name": "stdout",
     "output_type": "stream",
     "text": [
      "SalStat   greater than 50,000   less than or equal to 50,000\n",
      "gender                                                      \n",
      " Female              0.113678                       0.886322\n",
      " Male                0.313837                       0.686163\n",
      "All                  0.248922                       0.751078\n"
     ]
    }
   ],
   "source": [
    "#gender vs SalStat\n",
    "gender_SalStat=pd.crosstab(index=data2['gender'],\n",
    "                          columns=data2['SalStat'],\n",
    "                          margins=True,\n",
    "                          normalize='index')\n",
    "print(gender_SalStat)"
   ]
  },
  {
   "cell_type": "code",
   "execution_count": 41,
   "metadata": {},
   "outputs": [
    {
     "data": {
      "image/png": "[encoded data removed]",
      "text/plain": [
       "<Figure size 432x288 with 1 Axes>"
      ]
     },
     "metadata": {
      "needs_background": "light"
     },
     "output_type": "display_data"
    }
   ],
   "source": [
    "#frequnecy distribution of SalStat\n",
    "\n",
    "SalStat=sns.countplot(data2['SalStat'])"
   ]
  },
  {
   "cell_type": "code",
   "execution_count": 44,
   "metadata": {},
   "outputs": [
    {
     "data": {
      "text/plain": [
       "<matplotlib.axes._subplots.AxesSubplot at 0x1e57b2fdac8>"
      ]
     },
     "execution_count": 44,
     "metadata": {},
     "output_type": "execute_result"
    },
    {
     "data": {
      "image/png": "[encoded data removed]",
      "text/plain": [
       "<Figure size 432x288 with 1 Axes>"
      ]
     },
     "metadata": {
      "needs_background": "light"
     },
     "output_type": "display_data"
    }
   ],
   "source": [
    "#variable age\n",
    "sns.distplot(data2['age'],bins=10,kde=False)"
   ]
  },
  {
   "cell_type": "code",
   "execution_count": 45,
   "metadata": {},
   "outputs": [
    {
     "data": {
      "text/plain": [
       "SalStat\n",
       " greater than 50,000             43\n",
       " less than or equal to 50,000    34\n",
       "Name: age, dtype: int64"
      ]
     },
     "execution_count": 45,
     "metadata": {},
     "output_type": "execute_result"
    },
    {
     "data": {
      "image/png": "[encoded data removed]",
      "text/plain": [
       "<Figure size 432x288 with 1 Axes>"
      ]
     },
     "metadata": {
      "needs_background": "light"
     },
     "output_type": "display_data"
    }
   ],
   "source": [
    "#age vs SalStat\n",
    "sns.boxplot('SalStat','age',data=data2)\n",
    "data2.groupby('SalStat')['age'].median()"
   ]
  },
  {
   "cell_type": "code",
   "execution_count": 47,
   "metadata": {},
   "outputs": [
    {
     "name": "stdout",
     "output_type": "stream",
     "text": [
      "col_0                 count\n",
      "JobType                    \n",
      " Federal-gov       0.031265\n",
      " Local-gov         0.068530\n",
      " Private           0.738877\n",
      " Self-emp-inc      0.035608\n",
      " Self-emp-not-inc  0.082853\n",
      " State-gov         0.042404\n",
      " Without-pay       0.000464\n"
     ]
    }
   ],
   "source": [
    "#varaible JobType\n",
    "JobType=pd.crosstab(index=data2['JobType'],\n",
    "                   columns='count',\n",
    "                   normalize=True)\n",
    "\n",
    "print(JobType)"
   ]
  },
  {
   "cell_type": "code",
   "execution_count": 56,
   "metadata": {},
   "outputs": [
    {
     "data": {
      "text/plain": [
       "<matplotlib.axes._subplots.AxesSubplot at 0x1e57e56d320>"
      ]
     },
     "execution_count": 56,
     "metadata": {},
     "output_type": "execute_result"
    },
    {
     "data": {
      "image/png": "[encoded data removed]",
      "text/plain": [
       "<Figure size 432x288 with 1 Axes>"
      ]
     },
     "metadata": {
      "needs_background": "light"
     },
     "output_type": "display_data"
    }
   ],
   "source": [
    "sns.countplot(y=data2['JobType'],hue=data2['SalStat'])"
   ]
  },
  {
   "cell_type": "code",
   "execution_count": 55,
   "metadata": {},
   "outputs": [
    {
     "name": "stdout",
     "output_type": "stream",
     "text": [
      "SalStat             greater than 50,000   less than or equal to 50,000\n",
      "JobType                                                               \n",
      " Federal-gov                   0.387063                       0.612937\n",
      " Local-gov                     0.294630                       0.705370\n",
      " Private                       0.218792                       0.781208\n",
      " Self-emp-inc                  0.558659                       0.441341\n",
      " Self-emp-not-inc              0.285714                       0.714286\n",
      " State-gov                     0.268960                       0.731040\n",
      " Without-pay                   0.000000                       1.000000\n",
      "All                            0.248922                       0.751078\n"
     ]
    }
   ],
   "source": [
    "#JobType vs SalStat\n",
    "JobType_SalStat=pd.crosstab(index=data2['JobType'],\n",
    "                           columns=data2['SalStat'],\n",
    "                           margins=True,\n",
    "                           normalize='index')\n",
    "print(JobType_SalStat)"
   ]
  },
  {
   "cell_type": "code",
   "execution_count": 59,
   "metadata": {},
   "outputs": [
    {
     "name": "stdout",
     "output_type": "stream",
     "text": [
      "SalStat         greater than 50,000   less than or equal to 50,000\n",
      "EdType                                                            \n",
      " 10th                      0.071951                       0.928049\n",
      " 11th                      0.056298                       0.943702\n",
      " 12th                      0.076923                       0.923077\n",
      " 1st-4th                   0.039735                       0.960265\n",
      " 5th-6th                   0.041667                       0.958333\n",
      " 7th-8th                   0.062837                       0.937163\n",
      " 9th                       0.054945                       0.945055\n",
      " Assoc-acdm                0.253968                       0.746032\n",
      " Assoc-voc                 0.263198                       0.736802\n",
      " Bachelors                 0.421491                       0.578509\n",
      " Doctorate                 0.746667                       0.253333\n",
      " HS-grad                   0.164329                       0.835671\n",
      " Masters                   0.564229                       0.435771\n",
      " Preschool                 0.000000                       1.000000\n",
      " Prof-school               0.749077                       0.250923\n",
      " Some-college              0.200060                       0.799940\n",
      "All                        0.248922                       0.751078\n"
     ]
    },
    {
     "data": {
      "image/png": "[encoded data removed]",
      "text/plain": [
       "<Figure size 432x288 with 1 Axes>"
      ]
     },
     "metadata": {
      "needs_background": "light"
     },
     "output_type": "display_data"
    }
   ],
   "source": [
    "#variable eductaion vs SalStat\n",
    "\n",
    "sns.countplot(y=data2['EdType'],hue=data2['SalStat'])\n",
    "\n",
    "EdType_SalStat=pd.crosstab(index=data2['EdType'],\n",
    "                           columns=data2['SalStat'],\n",
    "                           margins=True,\n",
    "                           normalize='index')\n",
    "print(EdType_SalStat)"
   ]
  },
  {
   "cell_type": "code",
   "execution_count": 60,
   "metadata": {},
   "outputs": [
    {
     "name": "stdout",
     "output_type": "stream",
     "text": [
      "SalStat              greater than 50,000   less than or equal to 50,000\n",
      "occupation                                                             \n",
      " Adm-clerical                   0.133835                       0.866165\n",
      " Armed-Forces                   0.111111                       0.888889\n",
      " Craft-repair                   0.225310                       0.774690\n",
      " Exec-managerial                0.485220                       0.514780\n",
      " Farming-fishing                0.116279                       0.883721\n",
      " Handlers-cleaners              0.061481                       0.938519\n",
      " Machine-op-inspct              0.124619                       0.875381\n",
      " Other-service                  0.041096                       0.958904\n",
      " Priv-house-serv                0.006993                       0.993007\n",
      " Prof-specialty                 0.448489                       0.551511\n",
      " Protective-serv                0.326087                       0.673913\n",
      " Sales                          0.270647                       0.729353\n",
      " Tech-support                   0.304825                       0.695175\n",
      " Transport-moving               0.202926                       0.797074\n",
      "All                             0.248922                       0.751078\n"
     ]
    },
    {
     "data": {
      "image/png": "[encoded data removed]",
      "text/plain": [
       "<Figure size 432x288 with 1 Axes>"
      ]
     },
     "metadata": {
      "needs_background": "light"
     },
     "output_type": "display_data"
    }
   ],
   "source": [
    "#occupation vs SalStat\n",
    "\n",
    "sns.countplot(y=data2['occupation'],hue=data2['SalStat'])\n",
    "\n",
    "occupation_SalStat=pd.crosstab(index=data2['occupation'],\n",
    "                           columns=data2['SalStat'],\n",
    "                           margins=True,\n",
    "                           normalize='index')\n",
    "print(occupation_SalStat)"
   ]
  },
  {
   "cell_type": "code",
   "execution_count": 65,
   "metadata": {},
   "outputs": [
    {
     "name": "stdout",
     "output_type": "stream",
     "text": [
      "SalStat       greater than 50,000   less than or equal to 50,000\n",
      "capitalgain                                                     \n",
      "0                        0.214053                       0.785947\n",
      "114                      0.000000                       1.000000\n",
      "401                      0.000000                       1.000000\n",
      "594                      0.000000                       1.000000\n",
      "914                      0.000000                       1.000000\n",
      "991                      0.000000                       1.000000\n",
      "1055                     0.000000                       1.000000\n",
      "1086                     0.000000                       1.000000\n",
      "1151                     0.000000                       1.000000\n",
      "1173                     0.000000                       1.000000\n",
      "1409                     0.000000                       1.000000\n",
      "1424                     0.000000                       1.000000\n",
      "1455                     0.000000                       1.000000\n",
      "1471                     0.000000                       1.000000\n",
      "1506                     0.000000                       1.000000\n",
      "1639                     0.000000                       1.000000\n",
      "1797                     0.000000                       1.000000\n",
      "1831                     0.000000                       1.000000\n",
      "1848                     0.000000                       1.000000\n",
      "2009                     0.000000                       1.000000\n",
      "2036                     0.000000                       1.000000\n",
      "2050                     0.000000                       1.000000\n",
      "2062                     0.000000                       1.000000\n",
      "2105                     0.000000                       1.000000\n",
      "2174                     0.000000                       1.000000\n",
      "2176                     0.000000                       1.000000\n",
      "2202                     0.000000                       1.000000\n",
      "2228                     0.000000                       1.000000\n",
      "2290                     0.000000                       1.000000\n",
      "2329                     0.000000                       1.000000\n",
      "...                           ...                            ...\n",
      "6849                     0.000000                       1.000000\n",
      "7298                     1.000000                       0.000000\n",
      "7430                     1.000000                       0.000000\n",
      "7443                     0.000000                       1.000000\n",
      "7688                     1.000000                       0.000000\n",
      "7896                     1.000000                       0.000000\n",
      "7978                     0.000000                       1.000000\n",
      "8614                     1.000000                       0.000000\n",
      "9386                     1.000000                       0.000000\n",
      "9562                     1.000000                       0.000000\n",
      "10520                    1.000000                       0.000000\n",
      "10566                    0.000000                       1.000000\n",
      "10605                    1.000000                       0.000000\n",
      "11678                    1.000000                       0.000000\n",
      "13550                    1.000000                       0.000000\n",
      "14084                    1.000000                       0.000000\n",
      "14344                    1.000000                       0.000000\n",
      "15020                    1.000000                       0.000000\n",
      "15024                    1.000000                       0.000000\n",
      "15831                    1.000000                       0.000000\n",
      "18481                    1.000000                       0.000000\n",
      "20051                    1.000000                       0.000000\n",
      "22040                    0.000000                       1.000000\n",
      "25124                    1.000000                       0.000000\n",
      "25236                    1.000000                       0.000000\n",
      "27828                    1.000000                       0.000000\n",
      "34095                    0.000000                       1.000000\n",
      "41310                    0.000000                       1.000000\n",
      "99999                    1.000000                       0.000000\n",
      "All                      0.248922                       0.751078\n",
      "\n",
      "[119 rows x 2 columns]\n"
     ]
    },
    {
     "data": {
      "image/png": "[encoded data removed]",
      "text/plain": [
       "<Figure size 432x288 with 1 Axes>"
      ]
     },
     "metadata": {
      "needs_background": "light"
     },
     "output_type": "display_data"
    }
   ],
   "source": [
    "sns.boxplot(x=data2['capitalgain'],y=data2['SalStat'])\n",
    "\n",
    "capitalgain_SalStat=pd.crosstab(index=data2['capitalgain'],\n",
    "                           columns=data2['SalStat'],\n",
    "                           margins=True,\n",
    "                           normalize='index')\n",
    "print(capitalgain_SalStat)"
   ]
  },
  {
   "cell_type": "code",
   "execution_count": 66,
   "metadata": {},
   "outputs": [
    {
     "name": "stdout",
     "output_type": "stream",
     "text": [
      "SalStat       greater than 50,000   less than or equal to 50,000\n",
      "capitalloss                                                     \n",
      "0                        0.235636                       0.764364\n",
      "155                      0.000000                       1.000000\n",
      "213                      0.000000                       1.000000\n",
      "323                      0.000000                       1.000000\n",
      "419                      0.000000                       1.000000\n",
      "625                      0.000000                       1.000000\n",
      "653                      0.666667                       0.333333\n",
      "810                      0.000000                       1.000000\n",
      "880                      0.000000                       1.000000\n",
      "974                      0.000000                       1.000000\n",
      "1092                     0.000000                       1.000000\n",
      "1138                     0.000000                       1.000000\n",
      "1258                     0.000000                       1.000000\n",
      "1340                     0.000000                       1.000000\n",
      "1380                     0.000000                       1.000000\n",
      "1408                     0.000000                       1.000000\n",
      "1411                     0.000000                       1.000000\n",
      "1485                     0.622222                       0.377778\n",
      "1504                     0.000000                       1.000000\n",
      "1539                     0.000000                       1.000000\n",
      "1564                     1.000000                       0.000000\n",
      "1573                     0.000000                       1.000000\n",
      "1579                     0.000000                       1.000000\n",
      "1590                     0.000000                       1.000000\n",
      "1594                     0.000000                       1.000000\n",
      "1602                     0.000000                       1.000000\n",
      "1617                     0.000000                       1.000000\n",
      "1628                     0.000000                       1.000000\n",
      "1648                     0.000000                       1.000000\n",
      "1651                     0.000000                       1.000000\n",
      "...                           ...                            ...\n",
      "2179                     0.000000                       1.000000\n",
      "2201                     1.000000                       0.000000\n",
      "2205                     0.000000                       1.000000\n",
      "2206                     0.000000                       1.000000\n",
      "2231                     1.000000                       0.000000\n",
      "2238                     0.000000                       1.000000\n",
      "2246                     1.000000                       0.000000\n",
      "2258                     0.520000                       0.480000\n",
      "2267                     0.000000                       1.000000\n",
      "2282                     1.000000                       0.000000\n",
      "2339                     0.000000                       1.000000\n",
      "2352                     0.000000                       1.000000\n",
      "2377                     0.470588                       0.529412\n",
      "2392                     1.000000                       0.000000\n",
      "2415                     1.000000                       0.000000\n",
      "2444                     1.000000                       0.000000\n",
      "2457                     0.000000                       1.000000\n",
      "2467                     0.000000                       1.000000\n",
      "2472                     1.000000                       0.000000\n",
      "2547                     1.000000                       0.000000\n",
      "2559                     1.000000                       0.000000\n",
      "2603                     0.000000                       1.000000\n",
      "2754                     0.000000                       1.000000\n",
      "2824                     1.000000                       0.000000\n",
      "3004                     1.000000                       0.000000\n",
      "3683                     0.500000                       0.500000\n",
      "3770                     0.000000                       1.000000\n",
      "3900                     0.000000                       1.000000\n",
      "4356                     0.000000                       1.000000\n",
      "All                      0.248922                       0.751078\n",
      "\n",
      "[91 rows x 2 columns]\n"
     ]
    },
    {
     "data": {
      "image/png": "[encoded data removed]",
      "text/plain": [
       "<Figure size 432x288 with 1 Axes>"
      ]
     },
     "metadata": {
      "needs_background": "light"
     },
     "output_type": "display_data"
    }
   ],
   "source": [
    "sns.boxplot(x=data2['capitalloss'],y=data2['SalStat'])\n",
    "\n",
    "capitalloss_SalStat=pd.crosstab(index=data2['capitalloss'],\n",
    "                           columns=data2['SalStat'],\n",
    "                           margins=True,\n",
    "                           normalize='index')\n",
    "print(capitalloss_SalStat)"
   ]
  },
  {
   "cell_type": "code",
   "execution_count": 68,
   "metadata": {},
   "outputs": [
    {
     "name": "stdout",
     "output_type": "stream",
     "text": [
      "SalStat        greater than 50,000   less than or equal to 50,000\n",
      "hoursperweek                                                     \n",
      "1                         0.142857                       0.857143\n",
      "2                         0.133333                       0.866667\n",
      "3                         0.041667                       0.958333\n",
      "4                         0.074074                       0.925926\n",
      "5                         0.157895                       0.842105\n",
      "6                         0.100000                       0.900000\n",
      "7                         0.105263                       0.894737\n",
      "8                         0.058824                       0.941176\n",
      "9                         0.058824                       0.941176\n",
      "10                        0.058559                       0.941441\n",
      "11                        0.000000                       1.000000\n",
      "12                        0.065693                       0.934307\n",
      "13                        0.111111                       0.888889\n",
      "14                        0.068966                       0.931034\n",
      "15                        0.040462                       0.959538\n",
      "16                        0.061111                       0.938889\n",
      "17                        0.037037                       0.962963\n",
      "18                        0.111111                       0.888889\n",
      "19                        0.000000                       1.000000\n",
      "20                        0.064516                       0.935484\n",
      "21                        0.086957                       0.913043\n",
      "22                        0.076923                       0.923077\n",
      "23                        0.000000                       1.000000\n",
      "24                        0.096774                       0.903226\n",
      "25                        0.054007                       0.945993\n",
      "26                        0.142857                       0.857143\n",
      "27                        0.035714                       0.964286\n",
      "28                        0.069444                       0.930556\n",
      "29                        0.200000                       0.800000\n",
      "30                        0.069767                       0.930233\n",
      "...                            ...                            ...\n",
      "66                        0.125000                       0.875000\n",
      "67                        0.750000                       0.250000\n",
      "68                        0.416667                       0.583333\n",
      "70                        0.373188                       0.626812\n",
      "72                        0.370968                       0.629032\n",
      "73                        0.500000                       0.500000\n",
      "74                        0.000000                       1.000000\n",
      "75                        0.317460                       0.682540\n",
      "76                        0.666667                       0.333333\n",
      "77                        0.000000                       1.000000\n",
      "78                        0.250000                       0.750000\n",
      "80                        0.433333                       0.566667\n",
      "81                        0.000000                       1.000000\n",
      "82                        0.000000                       1.000000\n",
      "84                        0.400000                       0.600000\n",
      "85                        0.307692                       0.692308\n",
      "86                        0.000000                       1.000000\n",
      "87                        0.000000                       1.000000\n",
      "88                        0.000000                       1.000000\n",
      "89                        0.500000                       0.500000\n",
      "90                        0.357143                       0.642857\n",
      "91                        0.000000                       1.000000\n",
      "92                        0.000000                       1.000000\n",
      "94                        0.000000                       1.000000\n",
      "95                        0.500000                       0.500000\n",
      "96                        0.200000                       0.800000\n",
      "97                        0.500000                       0.500000\n",
      "98                        0.272727                       0.727273\n",
      "99                        0.320513                       0.679487\n",
      "All                       0.248922                       0.751078\n",
      "\n",
      "[95 rows x 2 columns]\n"
     ]
    },
    {
     "data": {
      "image/png": "[encoded data removed]",
      "text/plain": [
       "<Figure size 432x288 with 1 Axes>"
      ]
     },
     "metadata": {
      "needs_background": "light"
     },
     "output_type": "display_data"
    }
   ],
   "source": [
    "#hoursperweek vs SalStat\n",
    "sns.boxplot(x=data2['hoursperweek'],y=data2['SalStat'])\n",
    "\n",
    "hoursperweek_SalStat=pd.crosstab(index=data2['hoursperweek'],\n",
    "                           columns=data2['SalStat'],\n",
    "                           margins=True,\n",
    "                           normalize='index')\n",
    "print(hoursperweek_SalStat)"
   ]
  },
  {
   "cell_type": "markdown",
   "metadata": {},
   "source": [
    "# Logistic Regression"
   ]
  },
  {
   "cell_type": "code",
   "execution_count": 69,
   "metadata": {},
   "outputs": [
    {
     "name": "stdout",
     "output_type": "stream",
     "text": [
      "[0 1]\n"
     ]
    },
    {
     "name": "stderr",
     "output_type": "stream",
     "text": [
      "C:\\Users\\SANJAY KUMAR\\Anaconda3\\lib\\site-packages\\ipykernel_launcher.py:2: SettingWithCopyWarning: \n",
      "A value is trying to be set on a copy of a slice from a DataFrame.\n",
      "Try using .loc[row_indexer,col_indexer] = value instead\n",
      "\n",
      "See the caveats in the documentation: http://pandas.pydata.org/pandas-docs/stable/indexing.html#indexing-view-versus-copy\n",
      "  \n"
     ]
    }
   ],
   "source": [
    "#reindexing SalStat to '0' and '1'\n",
    "data2['SalStat']=data2['SalStat'].map({' less than or equal to 50,000':0,' greater than 50,000':1})\n",
    "print(np.unique(data2['SalStat']))"
   ]
  },
  {
   "cell_type": "code",
   "execution_count": 70,
   "metadata": {},
   "outputs": [],
   "source": [
    "new_data=pd.get_dummies(data2,drop_first=True)"
   ]
  },
  {
   "cell_type": "code",
   "execution_count": 72,
   "metadata": {},
   "outputs": [
    {
     "name": "stdout",
     "output_type": "stream",
     "text": [
      "['age', 'capitalgain', 'capitalloss', 'hoursperweek', 'SalStat', 'JobType_ Local-gov', 'JobType_ Private', 'JobType_ Self-emp-inc', 'JobType_ Self-emp-not-inc', 'JobType_ State-gov', 'JobType_ Without-pay', 'EdType_ 11th', 'EdType_ 12th', 'EdType_ 1st-4th', 'EdType_ 5th-6th', 'EdType_ 7th-8th', 'EdType_ 9th', 'EdType_ Assoc-acdm', 'EdType_ Assoc-voc', 'EdType_ Bachelors', 'EdType_ Doctorate', 'EdType_ HS-grad', 'EdType_ Masters', 'EdType_ Preschool', 'EdType_ Prof-school', 'EdType_ Some-college', 'maritalstatus_ Married-AF-spouse', 'maritalstatus_ Married-civ-spouse', 'maritalstatus_ Married-spouse-absent', 'maritalstatus_ Never-married', 'maritalstatus_ Separated', 'maritalstatus_ Widowed', 'occupation_ Armed-Forces', 'occupation_ Craft-repair', 'occupation_ Exec-managerial', 'occupation_ Farming-fishing', 'occupation_ Handlers-cleaners', 'occupation_ Machine-op-inspct', 'occupation_ Other-service', 'occupation_ Priv-house-serv', 'occupation_ Prof-specialty', 'occupation_ Protective-serv', 'occupation_ Sales', 'occupation_ Tech-support', 'occupation_ Transport-moving', 'relationship_ Not-in-family', 'relationship_ Other-relative', 'relationship_ Own-child', 'relationship_ Unmarried', 'relationship_ Wife', 'race_ Asian-Pac-Islander', 'race_ Black', 'race_ Other', 'race_ White', 'gender_ Male', 'nativecountry_ Canada', 'nativecountry_ China', 'nativecountry_ Columbia', 'nativecountry_ Cuba', 'nativecountry_ Dominican-Republic', 'nativecountry_ Ecuador', 'nativecountry_ El-Salvador', 'nativecountry_ England', 'nativecountry_ France', 'nativecountry_ Germany', 'nativecountry_ Greece', 'nativecountry_ Guatemala', 'nativecountry_ Haiti', 'nativecountry_ Holand-Netherlands', 'nativecountry_ Honduras', 'nativecountry_ Hong', 'nativecountry_ Hungary', 'nativecountry_ India', 'nativecountry_ Iran', 'nativecountry_ Ireland', 'nativecountry_ Italy', 'nativecountry_ Jamaica', 'nativecountry_ Japan', 'nativecountry_ Laos', 'nativecountry_ Mexico', 'nativecountry_ Nicaragua', 'nativecountry_ Outlying-US(Guam-USVI-etc)', 'nativecountry_ Peru', 'nativecountry_ Philippines', 'nativecountry_ Poland', 'nativecountry_ Portugal', 'nativecountry_ Puerto-Rico', 'nativecountry_ Scotland', 'nativecountry_ South', 'nativecountry_ Taiwan', 'nativecountry_ Thailand', 'nativecountry_ Trinadad&Tobago', 'nativecountry_ United-States', 'nativecountry_ Vietnam', 'nativecountry_ Yugoslavia']\n"
     ]
    }
   ],
   "source": [
    "#Storing the column names\n",
    "columns_list=list(new_data.columns)\n",
    "print(columns_list)"
   ]
  },
  {
   "cell_type": "code",
   "execution_count": 73,
   "metadata": {},
   "outputs": [
    {
     "name": "stdout",
     "output_type": "stream",
     "text": [
      "['maritalstatus_ Married-spouse-absent', 'occupation_ Transport-moving', 'JobType_ Self-emp-inc', 'nativecountry_ Poland', 'occupation_ Armed-Forces', 'EdType_ HS-grad', 'relationship_ Not-in-family', 'nativecountry_ Laos', 'nativecountry_ England', 'race_ White', 'EdType_ 11th', 'race_ Asian-Pac-Islander', 'EdType_ Masters', 'occupation_ Tech-support', 'nativecountry_ Hong', 'capitalgain', 'occupation_ Sales', 'EdType_ 1st-4th', 'nativecountry_ Outlying-US(Guam-USVI-etc)', 'maritalstatus_ Never-married', 'occupation_ Prof-specialty', 'nativecountry_ China', 'JobType_ Private', 'nativecountry_ Ireland', 'occupation_ Handlers-cleaners', 'race_ Other', 'gender_ Male', 'nativecountry_ El-Salvador', 'JobType_ Without-pay', 'relationship_ Own-child', 'nativecountry_ Vietnam', 'occupation_ Priv-house-serv', 'EdType_ 12th', 'EdType_ Bachelors', 'EdType_ Preschool', 'occupation_ Craft-repair', 'nativecountry_ Japan', 'nativecountry_ Peru', 'nativecountry_ Guatemala', 'maritalstatus_ Married-AF-spouse', 'JobType_ Local-gov', 'nativecountry_ India', 'nativecountry_ Canada', 'EdType_ Doctorate', 'relationship_ Unmarried', 'nativecountry_ Cuba', 'nativecountry_ Germany', 'nativecountry_ Holand-Netherlands', 'nativecountry_ Philippines', 'race_ Black', 'nativecountry_ Haiti', 'EdType_ 7th-8th', 'relationship_ Other-relative', 'nativecountry_ Italy', 'hoursperweek', 'JobType_ Self-emp-not-inc', 'nativecountry_ United-States', 'EdType_ Assoc-acdm', 'EdType_ 5th-6th', 'maritalstatus_ Widowed', 'EdType_ Some-college', 'EdType_ Prof-school', 'nativecountry_ Greece', 'capitalloss', 'nativecountry_ Trinadad&Tobago', 'nativecountry_ Jamaica', 'JobType_ State-gov', 'nativecountry_ Iran', 'nativecountry_ Hungary', 'EdType_ 9th', 'relationship_ Wife', 'nativecountry_ Portugal', 'nativecountry_ Taiwan', 'nativecountry_ Mexico', 'age', 'occupation_ Protective-serv', 'nativecountry_ Puerto-Rico', 'occupation_ Exec-managerial', 'nativecountry_ Dominican-Republic', 'nativecountry_ Nicaragua', 'nativecountry_ Yugoslavia', 'EdType_ Assoc-voc', 'nativecountry_ Thailand', 'nativecountry_ Honduras', 'occupation_ Farming-fishing', 'nativecountry_ Scotland', 'nativecountry_ Columbia', 'maritalstatus_ Married-civ-spouse', 'nativecountry_ France', 'occupation_ Machine-op-inspct', 'occupation_ Other-service', 'maritalstatus_ Separated', 'nativecountry_ South', 'nativecountry_ Ecuador']\n"
     ]
    }
   ],
   "source": [
    "#Separating the input names from data\n",
    "features=list(set(columns_list)-set(['SalStat']))\n",
    "print(features)"
   ]
  },
  {
   "cell_type": "code",
   "execution_count": 74,
   "metadata": {},
   "outputs": [
    {
     "name": "stdout",
     "output_type": "stream",
     "text": [
      "[0 0 1 ... 0 0 0]\n"
     ]
    }
   ],
   "source": [
    "#storing the output values in y\n",
    "y=new_data['SalStat'].values\n",
    "print(y)"
   ]
  },
  {
   "cell_type": "code",
   "execution_count": 75,
   "metadata": {},
   "outputs": [
    {
     "name": "stdout",
     "output_type": "stream",
     "text": [
      "[[0 0 0 ... 0 0 0]\n",
      " [0 0 0 ... 0 0 0]\n",
      " [0 0 0 ... 0 0 0]\n",
      " ...\n",
      " [0 0 0 ... 0 0 0]\n",
      " [0 0 0 ... 0 0 0]\n",
      " [0 0 0 ... 0 0 0]]\n"
     ]
    }
   ],
   "source": [
    "x=new_data[features].values\n",
    "print(x)"
   ]
  },
  {
   "cell_type": "code",
   "execution_count": 76,
   "metadata": {},
   "outputs": [],
   "source": [
    "#splitting the data into train and test\n",
    "train_x,test_x,train_y,test_y=train_test_split(x,y,test_size=0.3,random_state=0)"
   ]
  },
  {
   "cell_type": "code",
   "execution_count": 77,
   "metadata": {},
   "outputs": [],
   "source": [
    "#Making an instance of LogisticRegression\n",
    "logistic=LogisticRegression()"
   ]
  },
  {
   "cell_type": "code",
   "execution_count": 79,
   "metadata": {},
   "outputs": [
    {
     "name": "stderr",
     "output_type": "stream",
     "text": [
      "C:\\Users\\SANJAY KUMAR\\Anaconda3\\lib\\site-packages\\sklearn\\linear_model\\logistic.py:432: FutureWarning: Default solver will be changed to 'lbfgs' in 0.22. Specify a solver to silence this warning.\n",
      "  FutureWarning)\n"
     ]
    },
    {
     "data": {
      "text/plain": [
       "LogisticRegression(C=1.0, class_weight=None, dual=False, fit_intercept=True,\n",
       "                   intercept_scaling=1, l1_ratio=None, max_iter=100,\n",
       "                   multi_class='warn', n_jobs=None, penalty='l2',\n",
       "                   random_state=None, solver='warn', tol=0.0001, verbose=0,\n",
       "                   warm_start=False)"
      ]
     },
     "execution_count": 79,
     "metadata": {},
     "output_type": "execute_result"
    }
   ],
   "source": [
    "#fitting the values for x and y\n",
    "logistic.fit(train_x,train_y)"
   ]
  },
  {
   "cell_type": "code",
   "execution_count": 80,
   "metadata": {},
   "outputs": [],
   "source": [
    "#prediction from test data\n",
    "prediction=logistic.predict(test_x)"
   ]
  },
  {
   "cell_type": "code",
   "execution_count": 81,
   "metadata": {},
   "outputs": [
    {
     "name": "stdout",
     "output_type": "stream",
     "text": [
      "[[6338  485]\n",
      " [ 941 1285]]\n"
     ]
    }
   ],
   "source": [
    "#confusion matrix\n",
    "confusion_matrix1=confusion_matrix(test_y,prediction)\n",
    "print(confusion_matrix1)"
   ]
  },
  {
   "cell_type": "code",
   "execution_count": 82,
   "metadata": {},
   "outputs": [
    {
     "name": "stdout",
     "output_type": "stream",
     "text": [
      "0.8424135263565035\n"
     ]
    }
   ],
   "source": [
    "#calculating accuracy\n",
    "accuracy_score1=accuracy_score(test_y,prediction)\n",
    "print(accuracy_score1)"
   ]
  },
  {
   "cell_type": "markdown",
   "metadata": {},
   "source": [
    "# Logistic Regression- removing insignificant variables"
   ]
  },
  {
   "cell_type": "code",
   "execution_count": 84,
   "metadata": {},
   "outputs": [
    {
     "name": "stdout",
     "output_type": "stream",
     "text": [
      "<class 'pandas.core.frame.DataFrame'>\n",
      "Int64Index: 30162 entries, 0 to 31977\n",
      "Data columns (total 9 columns):\n",
      "age              30162 non-null int64\n",
      "EdType           30162 non-null object\n",
      "maritalstatus    30162 non-null object\n",
      "occupation       30162 non-null object\n",
      "relationship     30162 non-null object\n",
      "capitalgain      30162 non-null int64\n",
      "capitalloss      30162 non-null int64\n",
      "hoursperweek     30162 non-null int64\n",
      "SalStat          30162 non-null int64\n",
      "dtypes: int64(5), object(4)\n",
      "memory usage: 3.6+ MB\n",
      "None\n"
     ]
    }
   ],
   "source": [
    "cols=['gender','JobType','race','nativecountry']\n",
    "new_data=data2.drop(cols,axis=1)\n",
    "print(new_data.info())"
   ]
  },
  {
   "cell_type": "code",
   "execution_count": 85,
   "metadata": {},
   "outputs": [],
   "source": [
    "new_data=pd.get_dummies(new_data,drop_first=True)"
   ]
  },
  {
   "cell_type": "code",
   "execution_count": 86,
   "metadata": {},
   "outputs": [
    {
     "name": "stdout",
     "output_type": "stream",
     "text": [
      "['age', 'capitalgain', 'capitalloss', 'hoursperweek', 'SalStat', 'EdType_ 11th', 'EdType_ 12th', 'EdType_ 1st-4th', 'EdType_ 5th-6th', 'EdType_ 7th-8th', 'EdType_ 9th', 'EdType_ Assoc-acdm', 'EdType_ Assoc-voc', 'EdType_ Bachelors', 'EdType_ Doctorate', 'EdType_ HS-grad', 'EdType_ Masters', 'EdType_ Preschool', 'EdType_ Prof-school', 'EdType_ Some-college', 'maritalstatus_ Married-AF-spouse', 'maritalstatus_ Married-civ-spouse', 'maritalstatus_ Married-spouse-absent', 'maritalstatus_ Never-married', 'maritalstatus_ Separated', 'maritalstatus_ Widowed', 'occupation_ Armed-Forces', 'occupation_ Craft-repair', 'occupation_ Exec-managerial', 'occupation_ Farming-fishing', 'occupation_ Handlers-cleaners', 'occupation_ Machine-op-inspct', 'occupation_ Other-service', 'occupation_ Priv-house-serv', 'occupation_ Prof-specialty', 'occupation_ Protective-serv', 'occupation_ Sales', 'occupation_ Tech-support', 'occupation_ Transport-moving', 'relationship_ Not-in-family', 'relationship_ Other-relative', 'relationship_ Own-child', 'relationship_ Unmarried', 'relationship_ Wife']\n"
     ]
    }
   ],
   "source": [
    "columns_list=list(new_data.columns)\n",
    "print(columns_list)"
   ]
  },
  {
   "cell_type": "code",
   "execution_count": 87,
   "metadata": {},
   "outputs": [
    {
     "name": "stdout",
     "output_type": "stream",
     "text": [
      "['maritalstatus_ Married-spouse-absent', 'occupation_ Transport-moving', 'EdType_ Doctorate', 'relationship_ Unmarried', 'occupation_ Armed-Forces', 'EdType_ HS-grad', 'relationship_ Not-in-family', 'EdType_ 7th-8th', 'EdType_ 11th', 'relationship_ Other-relative', 'hoursperweek', 'EdType_ Masters', 'EdType_ Assoc-acdm', 'EdType_ 5th-6th', 'occupation_ Tech-support', 'maritalstatus_ Widowed', 'EdType_ Some-college', 'capitalgain', 'EdType_ Prof-school', 'EdType_ 1st-4th', 'maritalstatus_ Never-married', 'occupation_ Sales', 'occupation_ Prof-specialty', 'capitalloss', 'occupation_ Handlers-cleaners', 'EdType_ 9th', 'relationship_ Wife', 'age', 'occupation_ Protective-serv', 'occupation_ Exec-managerial', 'relationship_ Own-child', 'EdType_ Assoc-voc', 'occupation_ Priv-house-serv', 'EdType_ 12th', 'occupation_ Farming-fishing', 'EdType_ Bachelors', 'maritalstatus_ Married-civ-spouse', 'occupation_ Machine-op-inspct', 'occupation_ Other-service', 'maritalstatus_ Separated', 'EdType_ Preschool', 'occupation_ Craft-repair', 'maritalstatus_ Married-AF-spouse']\n"
     ]
    }
   ],
   "source": [
    "features=list(set(columns_list)-set(['SalStat']))\n",
    "print(features)"
   ]
  },
  {
   "cell_type": "code",
   "execution_count": 88,
   "metadata": {},
   "outputs": [
    {
     "name": "stdout",
     "output_type": "stream",
     "text": [
      "[0 0 1 ... 0 0 0]\n"
     ]
    }
   ],
   "source": [
    "y=new_data['SalStat'].values\n",
    "print(y)"
   ]
  },
  {
   "cell_type": "code",
   "execution_count": 89,
   "metadata": {},
   "outputs": [
    {
     "name": "stdout",
     "output_type": "stream",
     "text": [
      "[[0 0 0 ... 0 0 0]\n",
      " [0 0 0 ... 0 0 0]\n",
      " [0 0 0 ... 0 0 0]\n",
      " ...\n",
      " [0 0 0 ... 0 0 0]\n",
      " [0 0 0 ... 0 0 0]\n",
      " [0 0 0 ... 0 0 0]]\n"
     ]
    }
   ],
   "source": [
    "x=new_data[features].values\n",
    "print(x)"
   ]
  },
  {
   "cell_type": "code",
   "execution_count": 90,
   "metadata": {},
   "outputs": [],
   "source": [
    "train_x,test_x,train_y,test_y=train_test_split(x,y,test_size=0.3,random_state=0)"
   ]
  },
  {
   "cell_type": "code",
   "execution_count": 91,
   "metadata": {},
   "outputs": [],
   "source": [
    "#Making an instance of LogisticRegression\n",
    "logistic=LogisticRegression()"
   ]
  },
  {
   "cell_type": "code",
   "execution_count": 92,
   "metadata": {},
   "outputs": [
    {
     "name": "stderr",
     "output_type": "stream",
     "text": [
      "C:\\Users\\SANJAY KUMAR\\Anaconda3\\lib\\site-packages\\sklearn\\linear_model\\logistic.py:432: FutureWarning: Default solver will be changed to 'lbfgs' in 0.22. Specify a solver to silence this warning.\n",
      "  FutureWarning)\n"
     ]
    },
    {
     "data": {
      "text/plain": [
       "LogisticRegression(C=1.0, class_weight=None, dual=False, fit_intercept=True,\n",
       "                   intercept_scaling=1, l1_ratio=None, max_iter=100,\n",
       "                   multi_class='warn', n_jobs=None, penalty='l2',\n",
       "                   random_state=None, solver='warn', tol=0.0001, verbose=0,\n",
       "                   warm_start=False)"
      ]
     },
     "execution_count": 92,
     "metadata": {},
     "output_type": "execute_result"
    }
   ],
   "source": [
    "logistic.fit(train_x,train_y)"
   ]
  },
  {
   "cell_type": "code",
   "execution_count": 93,
   "metadata": {},
   "outputs": [],
   "source": [
    "prediction=logistic.predict(test_x)"
   ]
  },
  {
   "cell_type": "code",
   "execution_count": 94,
   "metadata": {},
   "outputs": [
    {
     "name": "stdout",
     "output_type": "stream",
     "text": [
      "0.8388772240026522\n"
     ]
    }
   ],
   "source": [
    "accuracy_score2=accuracy_score(test_y,prediction)\n",
    "print(accuracy_score2)"
   ]
  },
  {
   "cell_type": "markdown",
   "metadata": {},
   "source": [
    "# KNN"
   ]
  },
  {
   "cell_type": "code",
   "execution_count": 96,
   "metadata": {},
   "outputs": [],
   "source": [
    "#importing the library for knn\n",
    "\n",
    "from sklearn.neighbors import KNeighborsClassifier\n",
    "\n",
    "import matplotlib.pyplot as plt"
   ]
  },
  {
   "cell_type": "code",
   "execution_count": 97,
   "metadata": {},
   "outputs": [],
   "source": [
    "#storing the k nearest neighbours classifier\n",
    "KNN_classifier=KNeighborsClassifier(n_neighbors=5)"
   ]
  },
  {
   "cell_type": "code",
   "execution_count": 98,
   "metadata": {},
   "outputs": [
    {
     "data": {
      "text/plain": [
       "KNeighborsClassifier(algorithm='auto', leaf_size=30, metric='minkowski',\n",
       "                     metric_params=None, n_jobs=None, n_neighbors=5, p=2,\n",
       "                     weights='uniform')"
      ]
     },
     "execution_count": 98,
     "metadata": {},
     "output_type": "execute_result"
    }
   ],
   "source": [
    "KNN_classifier.fit(train_x,train_y)"
   ]
  },
  {
   "cell_type": "code",
   "execution_count": 100,
   "metadata": {},
   "outputs": [],
   "source": [
    "prediction2=KNN_classifier.predict(test_x)"
   ]
  },
  {
   "cell_type": "code",
   "execution_count": 101,
   "metadata": {},
   "outputs": [
    {
     "name": "stdout",
     "output_type": "stream",
     "text": [
      "[[6317  506]\n",
      " [ 952 1274]]\n"
     ]
    }
   ],
   "source": [
    "#confusion matrix\n",
    "confusion_matrix3=confusion_matrix(test_y,prediction)\n",
    "print(confusion_matrix3)"
   ]
  },
  {
   "cell_type": "code",
   "execution_count": 103,
   "metadata": {},
   "outputs": [
    {
     "name": "stdout",
     "output_type": "stream",
     "text": [
      "0.8388772240026522\n"
     ]
    }
   ],
   "source": [
    "accuracy_score3=accuracy_score(test_y,prediction)\n",
    "print(accuracy_score3)"
   ]
  },
  {
   "cell_type": "code",
   "execution_count": 105,
   "metadata": {},
   "outputs": [
    {
     "name": "stdout",
     "output_type": "stream",
     "text": [
      "[1714, 1507, 1572, 1475, 1504, 1431, 1465, 1450, 1456, 1423, 1473, 1452, 1454, 1434, 1449, 1440, 1441, 1422, 1446]\n"
     ]
    }
   ],
   "source": [
    "#Calculating error for K values between 1 to 20\n",
    "Missclassified_Sample=[]\n",
    "for i in range(1,20):\n",
    "    knn=KNeighborsClassifier(n_neighbors=i)\n",
    "    knn.fit(train_x,train_y)\n",
    "    pred_i=knn.predict(test_x)\n",
    "    Missclassified_Sample.append((test_y!=pred_i).sum())\n",
    "    \n",
    "print(Missclassified_Sample)"
   ]
  }
 ],
 "metadata": {
  "kernelspec": {
   "display_name": "Python 3",
   "language": "python",
   "name": "python3"
  },
  "language_info": {
   "codemirror_mode": {
    "name": "ipython",
    "version": 3
   },
   "file_extension": ".py",
   "mimetype": "text/x-python",
   "name": "python",
   "nbconvert_exporter": "python",
   "pygments_lexer": "ipython3",
   "version": "3.7.3"
  }
 },
 "nbformat": 4,
 "nbformat_minor": 2
}
